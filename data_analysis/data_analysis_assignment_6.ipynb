{
 "cells": [
  {
   "cell_type": "markdown",
   "metadata": {},
   "source": [
    "# Data Analysis (Assignment 6)"
   ]
  },
  {
   "cell_type": "code",
   "execution_count": 1,
   "metadata": {},
   "outputs": [],
   "source": [
    "import warnings\n",
    "warnings.filterwarnings('ignore')"
   ]
  },
  {
   "cell_type": "code",
   "execution_count": 2,
   "metadata": {},
   "outputs": [],
   "source": [
    "import pandas as pd\n",
    "import numpy as np\n",
    "import matplotlib.pyplot as plt\n",
    "import matplotlib.pyplot as plt\n",
    "import seaborn as sns"
   ]
  },
  {
   "cell_type": "markdown",
   "metadata": {},
   "source": [
    "### Table of Contents\n",
    "- Data\n",
    "    - Uploading Data\n",
    "    - Observations of New Dataset\n",
    "    - Data Cleaning New Dataset\n",
    "- Block 1: Gender Leadership Gap: What proportion of company executives are female? Male?\n",
    "- Block 2: Among LinkedIn users who work at large companies, is the proportion of users who include a profile picture larger than the proportion without profile pictures?\n",
    "- Block 3: Are there more LinkedIn Premium members than regular users working at well-known companies?\n",
    "- Block 4: Do millenials tend to switch positions more frequently than other age groups?\n",
    "- Block 5: Do the proportion of Asians, Whites, and Blacks working at Fortune 500 companies reflect their overall population proportions?"
   ]
  },
  {
   "cell_type": "markdown",
   "metadata": {},
   "source": [
    "### Uploading Data"
   ]
  },
  {
   "cell_type": "code",
   "execution_count": 3,
   "metadata": {},
   "outputs": [],
   "source": [
    "linkedin_original = pd.read_csv('../data/clean/linkedin_original.csv', encoding='latin-1')"
   ]
  },
  {
   "cell_type": "markdown",
   "metadata": {},
   "source": [
    "**Note:** After receiving feedback on my last assignment, I've taken a look at the dataset that was suggested. The following analysis is conducted on that dataset (https://www.kaggle.com/killbot/linkedin-profiles-and-jobs-data/notebooks)."
   ]
  },
  {
   "cell_type": "code",
   "execution_count": 4,
   "metadata": {},
   "outputs": [],
   "source": [
    "linkedin_updated = pd.read_csv('../data/raw/linkedin_new.csv', encoding='latin-1')"
   ]
  },
  {
   "cell_type": "code",
   "execution_count": 5,
   "metadata": {},
   "outputs": [
    {
     "data": {
      "text/html": [
       "<div>\n",
       "<style scoped>\n",
       "    .dataframe tbody tr th:only-of-type {\n",
       "        vertical-align: middle;\n",
       "    }\n",
       "\n",
       "    .dataframe tbody tr th {\n",
       "        vertical-align: top;\n",
       "    }\n",
       "\n",
       "    .dataframe thead th {\n",
       "        text-align: right;\n",
       "    }\n",
       "</style>\n",
       "<table border=\"1\" class=\"dataframe\">\n",
       "  <thead>\n",
       "    <tr style=\"text-align: right;\">\n",
       "      <th></th>\n",
       "      <th>Unnamed: 0</th>\n",
       "      <th>ageEstimate</th>\n",
       "      <th>companyFollowerCount</th>\n",
       "      <th>companyHasLogo</th>\n",
       "      <th>companyName</th>\n",
       "      <th>companyStaffCount</th>\n",
       "      <th>companyUrl</th>\n",
       "      <th>companyUrn</th>\n",
       "      <th>connectionsCount</th>\n",
       "      <th>country</th>\n",
       "      <th>...</th>\n",
       "      <th>mbrLocationCode</th>\n",
       "      <th>mbrTitle</th>\n",
       "      <th>memberUrn</th>\n",
       "      <th>posLocation</th>\n",
       "      <th>posLocationCode</th>\n",
       "      <th>posTitle</th>\n",
       "      <th>positionId</th>\n",
       "      <th>startDate</th>\n",
       "      <th>avgMemberPosDuration</th>\n",
       "      <th>avgCompanyPosDuration</th>\n",
       "    </tr>\n",
       "  </thead>\n",
       "  <tbody>\n",
       "    <tr>\n",
       "      <th>0</th>\n",
       "      <td>0</td>\n",
       "      <td>41.0</td>\n",
       "      <td>198859.0</td>\n",
       "      <td>5a92c12e-0a20-482b-95ec-e705a6294730-2.png</td>\n",
       "      <td>Commonwealth Bank</td>\n",
       "      <td>32905.0</td>\n",
       "      <td>http://www.commbank.com.au/</td>\n",
       "      <td>urn:li:company:2848</td>\n",
       "      <td>500.0</td>\n",
       "      <td>au</td>\n",
       "      <td>...</td>\n",
       "      <td>urn:li:fs_region:(au,4910)</td>\n",
       "      <td>Portfolio Executive at Commonwealth Bank</td>\n",
       "      <td>urn:li:member:10013136</td>\n",
       "      <td>NaN</td>\n",
       "      <td>NaN</td>\n",
       "      <td>Portfolio Executive</td>\n",
       "      <td>240345.0</td>\n",
       "      <td>2014-07-01</td>\n",
       "      <td>760.5</td>\n",
       "      <td>989.9361</td>\n",
       "    </tr>\n",
       "    <tr>\n",
       "      <th>1</th>\n",
       "      <td>1</td>\n",
       "      <td>41.0</td>\n",
       "      <td>198859.0</td>\n",
       "      <td>5a92c12e-0a20-482b-95ec-e705a6294730-2.png</td>\n",
       "      <td>Commonwealth Bank</td>\n",
       "      <td>32905.0</td>\n",
       "      <td>http://www.commbank.com.au/</td>\n",
       "      <td>urn:li:company:2848</td>\n",
       "      <td>500.0</td>\n",
       "      <td>au</td>\n",
       "      <td>...</td>\n",
       "      <td>urn:li:fs_region:(au,4910)</td>\n",
       "      <td>Portfolio Executive at Commonwealth Bank</td>\n",
       "      <td>urn:li:member:10013136</td>\n",
       "      <td>Sydney, Australia</td>\n",
       "      <td>urn:li:fs_region:(au,4910)</td>\n",
       "      <td>Solution Delivery Executive</td>\n",
       "      <td>240346.0</td>\n",
       "      <td>2013-11-01</td>\n",
       "      <td>760.5</td>\n",
       "      <td>989.9361</td>\n",
       "    </tr>\n",
       "  </tbody>\n",
       "</table>\n",
       "<p>2 rows × 27 columns</p>\n",
       "</div>"
      ],
      "text/plain": [
       "   Unnamed: 0  ageEstimate  companyFollowerCount  \\\n",
       "0           0         41.0              198859.0   \n",
       "1           1         41.0              198859.0   \n",
       "\n",
       "                               companyHasLogo        companyName  \\\n",
       "0  5a92c12e-0a20-482b-95ec-e705a6294730-2.png  Commonwealth Bank   \n",
       "1  5a92c12e-0a20-482b-95ec-e705a6294730-2.png  Commonwealth Bank   \n",
       "\n",
       "   companyStaffCount                   companyUrl           companyUrn  \\\n",
       "0            32905.0  http://www.commbank.com.au/  urn:li:company:2848   \n",
       "1            32905.0  http://www.commbank.com.au/  urn:li:company:2848   \n",
       "\n",
       "   connectionsCount country  ...             mbrLocationCode  \\\n",
       "0             500.0      au  ...  urn:li:fs_region:(au,4910)   \n",
       "1             500.0      au  ...  urn:li:fs_region:(au,4910)   \n",
       "\n",
       "                                   mbrTitle               memberUrn  \\\n",
       "0  Portfolio Executive at Commonwealth Bank  urn:li:member:10013136   \n",
       "1  Portfolio Executive at Commonwealth Bank  urn:li:member:10013136   \n",
       "\n",
       "         posLocation             posLocationCode                     posTitle  \\\n",
       "0                NaN                         NaN          Portfolio Executive   \n",
       "1  Sydney, Australia  urn:li:fs_region:(au,4910)  Solution Delivery Executive   \n",
       "\n",
       "  positionId   startDate avgMemberPosDuration avgCompanyPosDuration  \n",
       "0   240345.0  2014-07-01                760.5              989.9361  \n",
       "1   240346.0  2013-11-01                760.5              989.9361  \n",
       "\n",
       "[2 rows x 27 columns]"
      ]
     },
     "execution_count": 5,
     "metadata": {},
     "output_type": "execute_result"
    }
   ],
   "source": [
    "linkedin_updated.head(2)"
   ]
  },
  {
   "cell_type": "code",
   "execution_count": 6,
   "metadata": {},
   "outputs": [
    {
     "data": {
      "text/plain": [
       "(39537, 27)"
      ]
     },
     "execution_count": 6,
     "metadata": {},
     "output_type": "execute_result"
    }
   ],
   "source": [
    "linkedin_updated.shape"
   ]
  },
  {
   "cell_type": "code",
   "execution_count": 7,
   "metadata": {},
   "outputs": [
    {
     "data": {
      "text/plain": [
       "Index(['Unnamed: 0', 'ageEstimate', 'companyFollowerCount', 'companyHasLogo',\n",
       "       'companyName', 'companyStaffCount', 'companyUrl', 'companyUrn',\n",
       "       'connectionsCount', 'country', 'endDate', 'followable',\n",
       "       'followersCount', 'genderEstimate', 'hasPicture', 'isPremium',\n",
       "       'mbrLocation', 'mbrLocationCode', 'mbrTitle', 'memberUrn',\n",
       "       'posLocation', 'posLocationCode', 'posTitle', 'positionId', 'startDate',\n",
       "       'avgMemberPosDuration', 'avgCompanyPosDuration'],\n",
       "      dtype='object')"
      ]
     },
     "execution_count": 7,
     "metadata": {},
     "output_type": "execute_result"
    }
   ],
   "source": [
    "linkedin_updated.columns"
   ]
  },
  {
   "cell_type": "markdown",
   "metadata": {},
   "source": [
    "### Observations of the New Dataset"
   ]
  },
  {
   "cell_type": "markdown",
   "metadata": {},
   "source": [
    "* Each row represents a LinkedIn user\n",
    "* Many of the columns are similar to the ones from my original dataset (descriptions of those columns are in the \"Initial Data Analysis\" file)\n",
    "* This dataset includes more information on the company of each LinkedIn user, but less information on the LinkedIn user themself"
   ]
  },
  {
   "cell_type": "markdown",
   "metadata": {},
   "source": [
    "### Data Cleaning New Dataset"
   ]
  },
  {
   "cell_type": "markdown",
   "metadata": {},
   "source": [
    "**1. Drop irrelevant columns and faulty rows**"
   ]
  },
  {
   "cell_type": "code",
   "execution_count": 8,
   "metadata": {},
   "outputs": [],
   "source": [
    "linkedin_updated = linkedin_updated.drop(['Unnamed: 0', 'companyHasLogo', 'companyUrl', 'companyUrn', \n",
    "                                'country', 'endDate', 'followable','mbrLocation', 'mbrLocationCode','mbrTitle','memberUrn',\n",
    "                               'posLocation', 'posLocationCode','positionId', 'startDate','avgCompanyPosDuration'], axis = 1)"
   ]
  },
  {
   "cell_type": "code",
   "execution_count": 9,
   "metadata": {},
   "outputs": [
    {
     "data": {
      "text/html": [
       "<div>\n",
       "<style scoped>\n",
       "    .dataframe tbody tr th:only-of-type {\n",
       "        vertical-align: middle;\n",
       "    }\n",
       "\n",
       "    .dataframe tbody tr th {\n",
       "        vertical-align: top;\n",
       "    }\n",
       "\n",
       "    .dataframe thead th {\n",
       "        text-align: right;\n",
       "    }\n",
       "</style>\n",
       "<table border=\"1\" class=\"dataframe\">\n",
       "  <thead>\n",
       "    <tr style=\"text-align: right;\">\n",
       "      <th></th>\n",
       "      <th>ageEstimate</th>\n",
       "      <th>companyFollowerCount</th>\n",
       "      <th>companyName</th>\n",
       "      <th>companyStaffCount</th>\n",
       "      <th>connectionsCount</th>\n",
       "      <th>followersCount</th>\n",
       "      <th>genderEstimate</th>\n",
       "      <th>hasPicture</th>\n",
       "      <th>isPremium</th>\n",
       "      <th>posTitle</th>\n",
       "      <th>avgMemberPosDuration</th>\n",
       "    </tr>\n",
       "  </thead>\n",
       "  <tbody>\n",
       "    <tr>\n",
       "      <th>21464</th>\n",
       "      <td>20.0</td>\n",
       "      <td>23344.0</td>\n",
       "      <td>Navitas</td>\n",
       "      <td>3704.0</td>\n",
       "      <td>500.0</td>\n",
       "      <td>738.0</td>\n",
       "      <td>male</td>\n",
       "      <td>PDILB-vuuZqDf3K728ozT8PTfrPA56rxtTQKPuwd0j4.jpg</td>\n",
       "      <td>0.0</td>\n",
       "      <td>Student Ambassador</td>\n",
       "      <td>317.5714</td>\n",
       "    </tr>\n",
       "    <tr>\n",
       "      <th>31406</th>\n",
       "      <td>20.0</td>\n",
       "      <td>15761.0</td>\n",
       "      <td>Australian Institute of Project Management AIPM</td>\n",
       "      <td>84.0</td>\n",
       "      <td>491.0</td>\n",
       "      <td>496.0</td>\n",
       "      <td>female</td>\n",
       "      <td>FcOdh_LdVqmt8mfzy2RVXrk_en-uBGNZYremOaVim1M.jpg</td>\n",
       "      <td>0.0</td>\n",
       "      <td>Councillor South Australia</td>\n",
       "      <td>245.6000</td>\n",
       "    </tr>\n",
       "    <tr>\n",
       "      <th>31405</th>\n",
       "      <td>20.0</td>\n",
       "      <td>18135.0</td>\n",
       "      <td>SA Health</td>\n",
       "      <td>8930.0</td>\n",
       "      <td>491.0</td>\n",
       "      <td>496.0</td>\n",
       "      <td>female</td>\n",
       "      <td>FcOdh_LdVqmt8mfzy2RVXrk_en-uBGNZYremOaVim1M.jpg</td>\n",
       "      <td>0.0</td>\n",
       "      <td>Change Manager, New Royal Adelaide Hospital</td>\n",
       "      <td>245.6000</td>\n",
       "    </tr>\n",
       "    <tr>\n",
       "      <th>29571</th>\n",
       "      <td>20.0</td>\n",
       "      <td>2470.0</td>\n",
       "      <td>Centuria Capital Limited</td>\n",
       "      <td>71.0</td>\n",
       "      <td>500.0</td>\n",
       "      <td>596.0</td>\n",
       "      <td>male</td>\n",
       "      <td>NaN</td>\n",
       "      <td>0.0</td>\n",
       "      <td>Investment Analyst</td>\n",
       "      <td>661.2500</td>\n",
       "    </tr>\n",
       "    <tr>\n",
       "      <th>21465</th>\n",
       "      <td>20.0</td>\n",
       "      <td>1518.0</td>\n",
       "      <td>KFC Roos Foods</td>\n",
       "      <td>1048.0</td>\n",
       "      <td>500.0</td>\n",
       "      <td>738.0</td>\n",
       "      <td>male</td>\n",
       "      <td>PDILB-vuuZqDf3K728ozT8PTfrPA56rxtTQKPuwd0j4.jpg</td>\n",
       "      <td>0.0</td>\n",
       "      <td>Crew Member</td>\n",
       "      <td>317.5714</td>\n",
       "    </tr>\n",
       "    <tr>\n",
       "      <th>21466</th>\n",
       "      <td>20.0</td>\n",
       "      <td>1236.0</td>\n",
       "      <td>mmw3degrees</td>\n",
       "      <td>68.0</td>\n",
       "      <td>500.0</td>\n",
       "      <td>738.0</td>\n",
       "      <td>male</td>\n",
       "      <td>PDILB-vuuZqDf3K728ozT8PTfrPA56rxtTQKPuwd0j4.jpg</td>\n",
       "      <td>0.0</td>\n",
       "      <td>Marketing Automation Team Lead</td>\n",
       "      <td>317.5714</td>\n",
       "    </tr>\n",
       "    <tr>\n",
       "      <th>38094</th>\n",
       "      <td>20.0</td>\n",
       "      <td>1996.0</td>\n",
       "      <td>Ballarat Health Services</td>\n",
       "      <td>932.0</td>\n",
       "      <td>119.0</td>\n",
       "      <td>123.0</td>\n",
       "      <td>male</td>\n",
       "      <td>NaN</td>\n",
       "      <td>0.0</td>\n",
       "      <td>Manager Information Technology Operations</td>\n",
       "      <td>901.1250</td>\n",
       "    </tr>\n",
       "    <tr>\n",
       "      <th>38093</th>\n",
       "      <td>20.0</td>\n",
       "      <td>1996.0</td>\n",
       "      <td>Ballarat Health Services</td>\n",
       "      <td>932.0</td>\n",
       "      <td>119.0</td>\n",
       "      <td>123.0</td>\n",
       "      <td>male</td>\n",
       "      <td>NaN</td>\n",
       "      <td>0.0</td>\n",
       "      <td>Director Information Technology</td>\n",
       "      <td>901.1250</td>\n",
       "    </tr>\n",
       "    <tr>\n",
       "      <th>38092</th>\n",
       "      <td>20.0</td>\n",
       "      <td>2339.0</td>\n",
       "      <td>Symbion Pty Ltd</td>\n",
       "      <td>272.0</td>\n",
       "      <td>119.0</td>\n",
       "      <td>123.0</td>\n",
       "      <td>male</td>\n",
       "      <td>NaN</td>\n",
       "      <td>0.0</td>\n",
       "      <td>State Manager ICT, Pathology (Victoria)</td>\n",
       "      <td>901.1250</td>\n",
       "    </tr>\n",
       "    <tr>\n",
       "      <th>38091</th>\n",
       "      <td>20.0</td>\n",
       "      <td>14823.0</td>\n",
       "      <td>Monash Health</td>\n",
       "      <td>4959.0</td>\n",
       "      <td>119.0</td>\n",
       "      <td>123.0</td>\n",
       "      <td>male</td>\n",
       "      <td>NaN</td>\n",
       "      <td>0.0</td>\n",
       "      <td>Director Information Technology</td>\n",
       "      <td>901.1250</td>\n",
       "    </tr>\n",
       "  </tbody>\n",
       "</table>\n",
       "</div>"
      ],
      "text/plain": [
       "       ageEstimate  companyFollowerCount  \\\n",
       "21464         20.0               23344.0   \n",
       "31406         20.0               15761.0   \n",
       "31405         20.0               18135.0   \n",
       "29571         20.0                2470.0   \n",
       "21465         20.0                1518.0   \n",
       "21466         20.0                1236.0   \n",
       "38094         20.0                1996.0   \n",
       "38093         20.0                1996.0   \n",
       "38092         20.0                2339.0   \n",
       "38091         20.0               14823.0   \n",
       "\n",
       "                                           companyName  companyStaffCount  \\\n",
       "21464                                          Navitas             3704.0   \n",
       "31406  Australian Institute of Project Management AIPM               84.0   \n",
       "31405                                        SA Health             8930.0   \n",
       "29571                         Centuria Capital Limited               71.0   \n",
       "21465                                   KFC Roos Foods             1048.0   \n",
       "21466                                      mmw3degrees               68.0   \n",
       "38094                         Ballarat Health Services              932.0   \n",
       "38093                         Ballarat Health Services              932.0   \n",
       "38092                                  Symbion Pty Ltd              272.0   \n",
       "38091                                    Monash Health             4959.0   \n",
       "\n",
       "       connectionsCount  followersCount genderEstimate  \\\n",
       "21464             500.0           738.0           male   \n",
       "31406             491.0           496.0         female   \n",
       "31405             491.0           496.0         female   \n",
       "29571             500.0           596.0           male   \n",
       "21465             500.0           738.0           male   \n",
       "21466             500.0           738.0           male   \n",
       "38094             119.0           123.0           male   \n",
       "38093             119.0           123.0           male   \n",
       "38092             119.0           123.0           male   \n",
       "38091             119.0           123.0           male   \n",
       "\n",
       "                                            hasPicture  isPremium  \\\n",
       "21464  PDILB-vuuZqDf3K728ozT8PTfrPA56rxtTQKPuwd0j4.jpg        0.0   \n",
       "31406  FcOdh_LdVqmt8mfzy2RVXrk_en-uBGNZYremOaVim1M.jpg        0.0   \n",
       "31405  FcOdh_LdVqmt8mfzy2RVXrk_en-uBGNZYremOaVim1M.jpg        0.0   \n",
       "29571                                              NaN        0.0   \n",
       "21465  PDILB-vuuZqDf3K728ozT8PTfrPA56rxtTQKPuwd0j4.jpg        0.0   \n",
       "21466  PDILB-vuuZqDf3K728ozT8PTfrPA56rxtTQKPuwd0j4.jpg        0.0   \n",
       "38094                                              NaN        0.0   \n",
       "38093                                              NaN        0.0   \n",
       "38092                                              NaN        0.0   \n",
       "38091                                              NaN        0.0   \n",
       "\n",
       "                                          posTitle  avgMemberPosDuration  \n",
       "21464                           Student Ambassador              317.5714  \n",
       "31406                   Councillor South Australia              245.6000  \n",
       "31405  Change Manager, New Royal Adelaide Hospital              245.6000  \n",
       "29571                           Investment Analyst              661.2500  \n",
       "21465                                  Crew Member              317.5714  \n",
       "21466              Marketing Automation Team Lead               317.5714  \n",
       "38094    Manager Information Technology Operations              901.1250  \n",
       "38093              Director Information Technology              901.1250  \n",
       "38092      State Manager ICT, Pathology (Victoria)              901.1250  \n",
       "38091              Director Information Technology              901.1250  "
      ]
     },
     "execution_count": 9,
     "metadata": {},
     "output_type": "execute_result"
    }
   ],
   "source": [
    "#check whether there are rows to remove based on age\n",
    "linkedin_updated.sort_values(by='ageEstimate', ascending=True).head(10)"
   ]
  },
  {
   "cell_type": "code",
   "execution_count": 10,
   "metadata": {},
   "outputs": [
    {
     "data": {
      "text/html": [
       "<div>\n",
       "<style scoped>\n",
       "    .dataframe tbody tr th:only-of-type {\n",
       "        vertical-align: middle;\n",
       "    }\n",
       "\n",
       "    .dataframe tbody tr th {\n",
       "        vertical-align: top;\n",
       "    }\n",
       "\n",
       "    .dataframe thead th {\n",
       "        text-align: right;\n",
       "    }\n",
       "</style>\n",
       "<table border=\"1\" class=\"dataframe\">\n",
       "  <thead>\n",
       "    <tr style=\"text-align: right;\">\n",
       "      <th></th>\n",
       "      <th>ageEstimate</th>\n",
       "      <th>companyFollowerCount</th>\n",
       "      <th>companyName</th>\n",
       "      <th>companyStaffCount</th>\n",
       "      <th>connectionsCount</th>\n",
       "      <th>followersCount</th>\n",
       "      <th>genderEstimate</th>\n",
       "      <th>hasPicture</th>\n",
       "      <th>isPremium</th>\n",
       "      <th>posTitle</th>\n",
       "      <th>avgMemberPosDuration</th>\n",
       "    </tr>\n",
       "  </thead>\n",
       "  <tbody>\n",
       "    <tr>\n",
       "      <th>20506</th>\n",
       "      <td>21.0</td>\n",
       "      <td>24855.0</td>\n",
       "      <td>Forever New Clothing</td>\n",
       "      <td>1004.0</td>\n",
       "      <td>16.0</td>\n",
       "      <td>16.0</td>\n",
       "      <td>female</td>\n",
       "      <td>NaN</td>\n",
       "      <td>0.0</td>\n",
       "      <td>Sales Assistant</td>\n",
       "      <td>0.0</td>\n",
       "    </tr>\n",
       "    <tr>\n",
       "      <th>21740</th>\n",
       "      <td>36.0</td>\n",
       "      <td>126361.0</td>\n",
       "      <td>Westpac</td>\n",
       "      <td>12393.0</td>\n",
       "      <td>71.0</td>\n",
       "      <td>71.0</td>\n",
       "      <td>female</td>\n",
       "      <td>NaN</td>\n",
       "      <td>0.0</td>\n",
       "      <td>Senior Retail Lease Manager</td>\n",
       "      <td>0.0</td>\n",
       "    </tr>\n",
       "    <tr>\n",
       "      <th>21739</th>\n",
       "      <td>36.0</td>\n",
       "      <td>126361.0</td>\n",
       "      <td>Westpac</td>\n",
       "      <td>12393.0</td>\n",
       "      <td>71.0</td>\n",
       "      <td>71.0</td>\n",
       "      <td>female</td>\n",
       "      <td>NaN</td>\n",
       "      <td>0.0</td>\n",
       "      <td>Senior Retail Lease Manager</td>\n",
       "      <td>0.0</td>\n",
       "    </tr>\n",
       "    <tr>\n",
       "      <th>25319</th>\n",
       "      <td>27.0</td>\n",
       "      <td>159999.0</td>\n",
       "      <td>Deakin University</td>\n",
       "      <td>7646.0</td>\n",
       "      <td>100.0</td>\n",
       "      <td>100.0</td>\n",
       "      <td>NaN</td>\n",
       "      <td>NaN</td>\n",
       "      <td>0.0</td>\n",
       "      <td>Casual Research Assistant</td>\n",
       "      <td>0.0</td>\n",
       "    </tr>\n",
       "    <tr>\n",
       "      <th>34935</th>\n",
       "      <td>31.0</td>\n",
       "      <td>18964.0</td>\n",
       "      <td>Aconex</td>\n",
       "      <td>740.0</td>\n",
       "      <td>353.0</td>\n",
       "      <td>352.0</td>\n",
       "      <td>male</td>\n",
       "      <td>RqkCGCaCY2mf11PqLx0N4hzcoA7mdawg0YhUxN9r6o0.jpg</td>\n",
       "      <td>0.0</td>\n",
       "      <td>Graduate Platform Engineer</td>\n",
       "      <td>28.0</td>\n",
       "    </tr>\n",
       "    <tr>\n",
       "      <th>34936</th>\n",
       "      <td>31.0</td>\n",
       "      <td>114.0</td>\n",
       "      <td>Mystic Pants Pty Ltd</td>\n",
       "      <td>13.0</td>\n",
       "      <td>353.0</td>\n",
       "      <td>352.0</td>\n",
       "      <td>male</td>\n",
       "      <td>RqkCGCaCY2mf11PqLx0N4hzcoA7mdawg0YhUxN9r6o0.jpg</td>\n",
       "      <td>0.0</td>\n",
       "      <td>Software/ Web Developer Intern</td>\n",
       "      <td>28.0</td>\n",
       "    </tr>\n",
       "    <tr>\n",
       "      <th>34937</th>\n",
       "      <td>31.0</td>\n",
       "      <td>2712994.0</td>\n",
       "      <td>Oracle</td>\n",
       "      <td>165109.0</td>\n",
       "      <td>353.0</td>\n",
       "      <td>352.0</td>\n",
       "      <td>male</td>\n",
       "      <td>RqkCGCaCY2mf11PqLx0N4hzcoA7mdawg0YhUxN9r6o0.jpg</td>\n",
       "      <td>0.0</td>\n",
       "      <td>Associate Software Engineer</td>\n",
       "      <td>28.0</td>\n",
       "    </tr>\n",
       "    <tr>\n",
       "      <th>32335</th>\n",
       "      <td>27.0</td>\n",
       "      <td>40014.0</td>\n",
       "      <td>Bunnings</td>\n",
       "      <td>7469.0</td>\n",
       "      <td>37.0</td>\n",
       "      <td>37.0</td>\n",
       "      <td>female</td>\n",
       "      <td>NaN</td>\n",
       "      <td>0.0</td>\n",
       "      <td>Tools Expert</td>\n",
       "      <td>30.0</td>\n",
       "    </tr>\n",
       "    <tr>\n",
       "      <th>17310</th>\n",
       "      <td>29.0</td>\n",
       "      <td>69.0</td>\n",
       "      <td>Kapow Pictures</td>\n",
       "      <td>2.0</td>\n",
       "      <td>39.0</td>\n",
       "      <td>39.0</td>\n",
       "      <td>female</td>\n",
       "      <td>Ua9sVnIoLbgue0O7dpzMuZ-aHaE799n01Q7pHwiCgaU.jpg</td>\n",
       "      <td>0.0</td>\n",
       "      <td>Internship</td>\n",
       "      <td>30.0</td>\n",
       "    </tr>\n",
       "    <tr>\n",
       "      <th>23589</th>\n",
       "      <td>29.0</td>\n",
       "      <td>17209.0</td>\n",
       "      <td>Pitcher Partners</td>\n",
       "      <td>1238.0</td>\n",
       "      <td>215.0</td>\n",
       "      <td>215.0</td>\n",
       "      <td>male</td>\n",
       "      <td>NaN</td>\n",
       "      <td>0.0</td>\n",
       "      <td>Consultant</td>\n",
       "      <td>30.0</td>\n",
       "    </tr>\n",
       "  </tbody>\n",
       "</table>\n",
       "</div>"
      ],
      "text/plain": [
       "       ageEstimate  companyFollowerCount           companyName  \\\n",
       "20506         21.0               24855.0  Forever New Clothing   \n",
       "21740         36.0              126361.0               Westpac   \n",
       "21739         36.0              126361.0               Westpac   \n",
       "25319         27.0              159999.0     Deakin University   \n",
       "34935         31.0               18964.0                Aconex   \n",
       "34936         31.0                 114.0  Mystic Pants Pty Ltd   \n",
       "34937         31.0             2712994.0                Oracle   \n",
       "32335         27.0               40014.0              Bunnings   \n",
       "17310         29.0                  69.0        Kapow Pictures   \n",
       "23589         29.0               17209.0      Pitcher Partners   \n",
       "\n",
       "       companyStaffCount  connectionsCount  followersCount genderEstimate  \\\n",
       "20506             1004.0              16.0            16.0         female   \n",
       "21740            12393.0              71.0            71.0         female   \n",
       "21739            12393.0              71.0            71.0         female   \n",
       "25319             7646.0             100.0           100.0            NaN   \n",
       "34935              740.0             353.0           352.0           male   \n",
       "34936               13.0             353.0           352.0           male   \n",
       "34937           165109.0             353.0           352.0           male   \n",
       "32335             7469.0              37.0            37.0         female   \n",
       "17310                2.0              39.0            39.0         female   \n",
       "23589             1238.0             215.0           215.0           male   \n",
       "\n",
       "                                            hasPicture  isPremium  \\\n",
       "20506                                              NaN        0.0   \n",
       "21740                                              NaN        0.0   \n",
       "21739                                              NaN        0.0   \n",
       "25319                                              NaN        0.0   \n",
       "34935  RqkCGCaCY2mf11PqLx0N4hzcoA7mdawg0YhUxN9r6o0.jpg        0.0   \n",
       "34936  RqkCGCaCY2mf11PqLx0N4hzcoA7mdawg0YhUxN9r6o0.jpg        0.0   \n",
       "34937  RqkCGCaCY2mf11PqLx0N4hzcoA7mdawg0YhUxN9r6o0.jpg        0.0   \n",
       "32335                                              NaN        0.0   \n",
       "17310  Ua9sVnIoLbgue0O7dpzMuZ-aHaE799n01Q7pHwiCgaU.jpg        0.0   \n",
       "23589                                              NaN        0.0   \n",
       "\n",
       "                             posTitle  avgMemberPosDuration  \n",
       "20506                 Sales Assistant                   0.0  \n",
       "21740    Senior Retail Lease Manager                    0.0  \n",
       "21739     Senior Retail Lease Manager                   0.0  \n",
       "25319       Casual Research Assistant                   0.0  \n",
       "34935      Graduate Platform Engineer                  28.0  \n",
       "34936  Software/ Web Developer Intern                  28.0  \n",
       "34937     Associate Software Engineer                  28.0  \n",
       "32335                    Tools Expert                  30.0  \n",
       "17310                      Internship                  30.0  \n",
       "23589                      Consultant                  30.0  "
      ]
     },
     "execution_count": 10,
     "metadata": {},
     "output_type": "execute_result"
    }
   ],
   "source": [
    "#check whether there are rows to remove based on position duration\n",
    "linkedin_updated.sort_values(by='avgMemberPosDuration', ascending=True).head(10)"
   ]
  },
  {
   "cell_type": "code",
   "execution_count": 11,
   "metadata": {},
   "outputs": [],
   "source": [
    "linkedin_updated = linkedin_updated[linkedin_updated['avgMemberPosDuration']>0]"
   ]
  },
  {
   "cell_type": "code",
   "execution_count": 12,
   "metadata": {},
   "outputs": [
    {
     "data": {
      "text/html": [
       "<div>\n",
       "<style scoped>\n",
       "    .dataframe tbody tr th:only-of-type {\n",
       "        vertical-align: middle;\n",
       "    }\n",
       "\n",
       "    .dataframe tbody tr th {\n",
       "        vertical-align: top;\n",
       "    }\n",
       "\n",
       "    .dataframe thead th {\n",
       "        text-align: right;\n",
       "    }\n",
       "</style>\n",
       "<table border=\"1\" class=\"dataframe\">\n",
       "  <thead>\n",
       "    <tr style=\"text-align: right;\">\n",
       "      <th></th>\n",
       "      <th>ageEstimate</th>\n",
       "      <th>companyFollowerCount</th>\n",
       "      <th>companyName</th>\n",
       "      <th>companyStaffCount</th>\n",
       "      <th>connectionsCount</th>\n",
       "      <th>followersCount</th>\n",
       "      <th>genderEstimate</th>\n",
       "      <th>hasPicture</th>\n",
       "      <th>isPremium</th>\n",
       "      <th>posTitle</th>\n",
       "      <th>avgMemberPosDuration</th>\n",
       "    </tr>\n",
       "  </thead>\n",
       "  <tbody>\n",
       "    <tr>\n",
       "      <th>0</th>\n",
       "      <td>41.0</td>\n",
       "      <td>198859.0</td>\n",
       "      <td>Commonwealth Bank</td>\n",
       "      <td>32905.0</td>\n",
       "      <td>500.0</td>\n",
       "      <td>506.0</td>\n",
       "      <td>male</td>\n",
       "      <td>NaN</td>\n",
       "      <td>0.0</td>\n",
       "      <td>Portfolio Executive</td>\n",
       "      <td>760.5</td>\n",
       "    </tr>\n",
       "    <tr>\n",
       "      <th>1</th>\n",
       "      <td>41.0</td>\n",
       "      <td>198859.0</td>\n",
       "      <td>Commonwealth Bank</td>\n",
       "      <td>32905.0</td>\n",
       "      <td>500.0</td>\n",
       "      <td>506.0</td>\n",
       "      <td>male</td>\n",
       "      <td>NaN</td>\n",
       "      <td>0.0</td>\n",
       "      <td>Solution Delivery Executive</td>\n",
       "      <td>760.5</td>\n",
       "    </tr>\n",
       "  </tbody>\n",
       "</table>\n",
       "</div>"
      ],
      "text/plain": [
       "   ageEstimate  companyFollowerCount        companyName  companyStaffCount  \\\n",
       "0         41.0              198859.0  Commonwealth Bank            32905.0   \n",
       "1         41.0              198859.0  Commonwealth Bank            32905.0   \n",
       "\n",
       "   connectionsCount  followersCount genderEstimate hasPicture  isPremium  \\\n",
       "0             500.0           506.0           male        NaN        0.0   \n",
       "1             500.0           506.0           male        NaN        0.0   \n",
       "\n",
       "                      posTitle  avgMemberPosDuration  \n",
       "0          Portfolio Executive                 760.5  \n",
       "1  Solution Delivery Executive                 760.5  "
      ]
     },
     "execution_count": 12,
     "metadata": {},
     "output_type": "execute_result"
    }
   ],
   "source": [
    "linkedin_updated.head(2)"
   ]
  },
  {
   "cell_type": "markdown",
   "metadata": {},
   "source": [
    "**2. Change `hasPicture` and `genderEstimate` into binary float variables**"
   ]
  },
  {
   "cell_type": "code",
   "execution_count": 13,
   "metadata": {},
   "outputs": [],
   "source": [
    "linkedin_updated.loc[linkedin_updated['hasPicture'].notnull(), 'hasPicture'] = 1\n",
    "linkedin_updated.loc[linkedin_updated['hasPicture'].isnull(), 'hasPicture'] = 0"
   ]
  },
  {
   "cell_type": "code",
   "execution_count": 14,
   "metadata": {},
   "outputs": [],
   "source": [
    "linkedin_updated = linkedin_updated.replace({'female' : 1, 'male' : 0})"
   ]
  },
  {
   "cell_type": "code",
   "execution_count": 15,
   "metadata": {},
   "outputs": [
    {
     "data": {
      "text/html": [
       "<div>\n",
       "<style scoped>\n",
       "    .dataframe tbody tr th:only-of-type {\n",
       "        vertical-align: middle;\n",
       "    }\n",
       "\n",
       "    .dataframe tbody tr th {\n",
       "        vertical-align: top;\n",
       "    }\n",
       "\n",
       "    .dataframe thead th {\n",
       "        text-align: right;\n",
       "    }\n",
       "</style>\n",
       "<table border=\"1\" class=\"dataframe\">\n",
       "  <thead>\n",
       "    <tr style=\"text-align: right;\">\n",
       "      <th></th>\n",
       "      <th>ageEstimate</th>\n",
       "      <th>companyFollowerCount</th>\n",
       "      <th>companyName</th>\n",
       "      <th>companyStaffCount</th>\n",
       "      <th>connectionsCount</th>\n",
       "      <th>followersCount</th>\n",
       "      <th>genderEstimate</th>\n",
       "      <th>hasPicture</th>\n",
       "      <th>isPremium</th>\n",
       "      <th>posTitle</th>\n",
       "      <th>avgMemberPosDuration</th>\n",
       "    </tr>\n",
       "  </thead>\n",
       "  <tbody>\n",
       "    <tr>\n",
       "      <th>0</th>\n",
       "      <td>41.0</td>\n",
       "      <td>198859.0</td>\n",
       "      <td>Commonwealth Bank</td>\n",
       "      <td>32905.0</td>\n",
       "      <td>500.0</td>\n",
       "      <td>506.0</td>\n",
       "      <td>0.0</td>\n",
       "      <td>0</td>\n",
       "      <td>0.0</td>\n",
       "      <td>Portfolio Executive</td>\n",
       "      <td>760.5</td>\n",
       "    </tr>\n",
       "    <tr>\n",
       "      <th>1</th>\n",
       "      <td>41.0</td>\n",
       "      <td>198859.0</td>\n",
       "      <td>Commonwealth Bank</td>\n",
       "      <td>32905.0</td>\n",
       "      <td>500.0</td>\n",
       "      <td>506.0</td>\n",
       "      <td>0.0</td>\n",
       "      <td>0</td>\n",
       "      <td>0.0</td>\n",
       "      <td>Solution Delivery Executive</td>\n",
       "      <td>760.5</td>\n",
       "    </tr>\n",
       "  </tbody>\n",
       "</table>\n",
       "</div>"
      ],
      "text/plain": [
       "   ageEstimate  companyFollowerCount        companyName  companyStaffCount  \\\n",
       "0         41.0              198859.0  Commonwealth Bank            32905.0   \n",
       "1         41.0              198859.0  Commonwealth Bank            32905.0   \n",
       "\n",
       "   connectionsCount  followersCount  genderEstimate  hasPicture  isPremium  \\\n",
       "0             500.0           506.0             0.0           0        0.0   \n",
       "1             500.0           506.0             0.0           0        0.0   \n",
       "\n",
       "                      posTitle  avgMemberPosDuration  \n",
       "0          Portfolio Executive                 760.5  \n",
       "1  Solution Delivery Executive                 760.5  "
      ]
     },
     "execution_count": 15,
     "metadata": {},
     "output_type": "execute_result"
    }
   ],
   "source": [
    "linkedin_updated.head(2)"
   ]
  },
  {
   "cell_type": "code",
   "execution_count": 16,
   "metadata": {},
   "outputs": [
    {
     "data": {
      "text/plain": [
       "(39308, 11)"
      ]
     },
     "execution_count": 16,
     "metadata": {},
     "output_type": "execute_result"
    }
   ],
   "source": [
    "linkedin_updated.shape"
   ]
  },
  {
   "cell_type": "markdown",
   "metadata": {},
   "source": [
    "Observations:\n",
    "- the units for `ageEstimate` is years\n",
    "- the units for `avgMemberPosDuration` is days"
   ]
  },
  {
   "cell_type": "markdown",
   "metadata": {},
   "source": [
    "**3. Upload cleaned dataset**"
   ]
  },
  {
   "cell_type": "code",
   "execution_count": 17,
   "metadata": {},
   "outputs": [],
   "source": [
    "linkedin_updated.to_csv('../data/clean/linkedin_updated.csv', index=False)"
   ]
  },
  {
   "cell_type": "markdown",
   "metadata": {},
   "source": [
    "## Block #1 Gender Leadership Gap: What proportion of company executives are female? Male?"
   ]
  },
  {
   "cell_type": "markdown",
   "metadata": {},
   "source": [
    "The leadership gap among genders is a highly debated topic. Obviously, since there is a smaller number of females in the workforce, I would expect a smaller number of female leaders. But, what I'm exploring is: Given the systematic smaller proportion of female workers, is there still a much smaller proportion of female leaders?"
   ]
  },
  {
   "cell_type": "markdown",
   "metadata": {},
   "source": [
    "**1. Create filters for rows where the LinkedIn user's position title includes terminology that pertains to an executive position**"
   ]
  },
  {
   "cell_type": "code",
   "execution_count": 18,
   "metadata": {},
   "outputs": [],
   "source": [
    "filter_list = ['Executive', 'Lead', 'CEO', 'CTO', 'CFO', 'Chief', 'Director', 'Chair', 'President']"
   ]
  },
  {
   "cell_type": "markdown",
   "metadata": {},
   "source": [
    "**2. Subset the data frame**"
   ]
  },
  {
   "cell_type": "code",
   "execution_count": 19,
   "metadata": {},
   "outputs": [
    {
     "data": {
      "text/html": [
       "<div>\n",
       "<style scoped>\n",
       "    .dataframe tbody tr th:only-of-type {\n",
       "        vertical-align: middle;\n",
       "    }\n",
       "\n",
       "    .dataframe tbody tr th {\n",
       "        vertical-align: top;\n",
       "    }\n",
       "\n",
       "    .dataframe thead th {\n",
       "        text-align: right;\n",
       "    }\n",
       "</style>\n",
       "<table border=\"1\" class=\"dataframe\">\n",
       "  <thead>\n",
       "    <tr style=\"text-align: right;\">\n",
       "      <th></th>\n",
       "      <th>ageEstimate</th>\n",
       "      <th>companyFollowerCount</th>\n",
       "      <th>companyName</th>\n",
       "      <th>companyStaffCount</th>\n",
       "      <th>connectionsCount</th>\n",
       "      <th>followersCount</th>\n",
       "      <th>genderEstimate</th>\n",
       "      <th>hasPicture</th>\n",
       "      <th>isPremium</th>\n",
       "      <th>posTitle</th>\n",
       "      <th>avgMemberPosDuration</th>\n",
       "    </tr>\n",
       "  </thead>\n",
       "  <tbody>\n",
       "    <tr>\n",
       "      <th>0</th>\n",
       "      <td>41.0</td>\n",
       "      <td>198859.0</td>\n",
       "      <td>Commonwealth Bank</td>\n",
       "      <td>32905.0</td>\n",
       "      <td>500.0</td>\n",
       "      <td>506.0</td>\n",
       "      <td>0.0</td>\n",
       "      <td>0</td>\n",
       "      <td>0.0</td>\n",
       "      <td>Portfolio Executive</td>\n",
       "      <td>760.5000</td>\n",
       "    </tr>\n",
       "    <tr>\n",
       "      <th>1</th>\n",
       "      <td>41.0</td>\n",
       "      <td>198859.0</td>\n",
       "      <td>Commonwealth Bank</td>\n",
       "      <td>32905.0</td>\n",
       "      <td>500.0</td>\n",
       "      <td>506.0</td>\n",
       "      <td>0.0</td>\n",
       "      <td>0</td>\n",
       "      <td>0.0</td>\n",
       "      <td>Solution Delivery Executive</td>\n",
       "      <td>760.5000</td>\n",
       "    </tr>\n",
       "    <tr>\n",
       "      <th>5</th>\n",
       "      <td>30.0</td>\n",
       "      <td>71403.0</td>\n",
       "      <td>Optus</td>\n",
       "      <td>10913.0</td>\n",
       "      <td>500.0</td>\n",
       "      <td>951.0</td>\n",
       "      <td>1.0</td>\n",
       "      <td>1</td>\n",
       "      <td>0.0</td>\n",
       "      <td>Digital and Social Engagement Leader, Optus Bu...</td>\n",
       "      <td>395.2857</td>\n",
       "    </tr>\n",
       "    <tr>\n",
       "      <th>8</th>\n",
       "      <td>30.0</td>\n",
       "      <td>4385293.0</td>\n",
       "      <td>IBM</td>\n",
       "      <td>568533.0</td>\n",
       "      <td>500.0</td>\n",
       "      <td>951.0</td>\n",
       "      <td>1.0</td>\n",
       "      <td>1</td>\n",
       "      <td>0.0</td>\n",
       "      <td>Brand Expression Lead</td>\n",
       "      <td>395.2857</td>\n",
       "    </tr>\n",
       "    <tr>\n",
       "      <th>13</th>\n",
       "      <td>33.0</td>\n",
       "      <td>47886.0</td>\n",
       "      <td>Hilton Hotels &amp; Resorts</td>\n",
       "      <td>5214.0</td>\n",
       "      <td>500.0</td>\n",
       "      <td>886.0</td>\n",
       "      <td>0.0</td>\n",
       "      <td>1</td>\n",
       "      <td>1.0</td>\n",
       "      <td>Banquet Team Leader</td>\n",
       "      <td>898.3333</td>\n",
       "    </tr>\n",
       "  </tbody>\n",
       "</table>\n",
       "</div>"
      ],
      "text/plain": [
       "    ageEstimate  companyFollowerCount              companyName  \\\n",
       "0          41.0              198859.0        Commonwealth Bank   \n",
       "1          41.0              198859.0        Commonwealth Bank   \n",
       "5          30.0               71403.0                    Optus   \n",
       "8          30.0             4385293.0                      IBM   \n",
       "13         33.0               47886.0  Hilton Hotels & Resorts   \n",
       "\n",
       "    companyStaffCount  connectionsCount  followersCount  genderEstimate  \\\n",
       "0             32905.0             500.0           506.0             0.0   \n",
       "1             32905.0             500.0           506.0             0.0   \n",
       "5             10913.0             500.0           951.0             1.0   \n",
       "8            568533.0             500.0           951.0             1.0   \n",
       "13             5214.0             500.0           886.0             0.0   \n",
       "\n",
       "    hasPicture  isPremium                                           posTitle  \\\n",
       "0            0        0.0                                Portfolio Executive   \n",
       "1            0        0.0                        Solution Delivery Executive   \n",
       "5            1        0.0  Digital and Social Engagement Leader, Optus Bu...   \n",
       "8            1        0.0                              Brand Expression Lead   \n",
       "13           1        1.0                                Banquet Team Leader   \n",
       "\n",
       "    avgMemberPosDuration  \n",
       "0               760.5000  \n",
       "1               760.5000  \n",
       "5               395.2857  \n",
       "8               395.2857  \n",
       "13              898.3333  "
      ]
     },
     "execution_count": 19,
     "metadata": {},
     "output_type": "execute_result"
    }
   ],
   "source": [
    "exec_df = linkedin_updated[linkedin_updated['posTitle'].str.contains('|'.join(filter_list),regex=True)]\n",
    "exec_df.head()"
   ]
  },
  {
   "cell_type": "code",
   "execution_count": 20,
   "metadata": {},
   "outputs": [
    {
     "data": {
      "text/plain": [
       "(6231, 11)"
      ]
     },
     "execution_count": 20,
     "metadata": {},
     "output_type": "execute_result"
    }
   ],
   "source": [
    "exec_df.shape"
   ]
  },
  {
   "cell_type": "markdown",
   "metadata": {},
   "source": [
    "**3. Count the number of rows where `genderEstimate` is 'female' vs. 'male'**"
   ]
  },
  {
   "cell_type": "code",
   "execution_count": 21,
   "metadata": {},
   "outputs": [
    {
     "data": {
      "text/plain": [
       "4038"
      ]
     },
     "execution_count": 21,
     "metadata": {},
     "output_type": "execute_result"
    }
   ],
   "source": [
    "num_of_male_execs = np.count_nonzero(exec_df['genderEstimate'] == 0.0)\n",
    "num_of_male_execs"
   ]
  },
  {
   "cell_type": "code",
   "execution_count": 22,
   "metadata": {},
   "outputs": [
    {
     "data": {
      "text/plain": [
       "1641"
      ]
     },
     "execution_count": 22,
     "metadata": {},
     "output_type": "execute_result"
    }
   ],
   "source": [
    "num_of_female_execs = np.count_nonzero(exec_df['genderEstimate'] == 1.0)\n",
    "num_of_female_execs"
   ]
  },
  {
   "cell_type": "markdown",
   "metadata": {},
   "source": [
    "**4. Calculate the proportions of female and male executives**"
   ]
  },
  {
   "cell_type": "code",
   "execution_count": 23,
   "metadata": {},
   "outputs": [
    {
     "data": {
      "text/plain": [
       "0.711040676175383"
      ]
     },
     "execution_count": 23,
     "metadata": {},
     "output_type": "execute_result"
    }
   ],
   "source": [
    "male_prop = num_of_male_execs/ (num_of_male_execs+num_of_female_execs)\n",
    "male_prop"
   ]
  },
  {
   "cell_type": "code",
   "execution_count": 24,
   "metadata": {},
   "outputs": [
    {
     "data": {
      "text/plain": [
       "0.28895932382461703"
      ]
     },
     "execution_count": 24,
     "metadata": {},
     "output_type": "execute_result"
    }
   ],
   "source": [
    "female_prop = num_of_female_execs/ (num_of_male_execs+num_of_female_execs)\n",
    "female_prop"
   ]
  },
  {
   "cell_type": "markdown",
   "metadata": {},
   "source": [
    "**5. Compare this with the theoretical proportions**"
   ]
  },
  {
   "cell_type": "code",
   "execution_count": 25,
   "metadata": {},
   "outputs": [],
   "source": [
    "#dropping NaN values within the `genderEstimate` column\n",
    "gender_df = linkedin_updated[linkedin_updated['genderEstimate'].notna()]"
   ]
  },
  {
   "cell_type": "code",
   "execution_count": 26,
   "metadata": {},
   "outputs": [],
   "source": [
    "males =(gender_df[gender_df['genderEstimate']==0.0])\n",
    "females =(gender_df[gender_df['genderEstimate']==1.0])"
   ]
  },
  {
   "cell_type": "code",
   "execution_count": 27,
   "metadata": {},
   "outputs": [
    {
     "data": {
      "text/plain": [
       "0.6702578893790295"
      ]
     },
     "execution_count": 27,
     "metadata": {},
     "output_type": "execute_result"
    }
   ],
   "source": [
    "theoretical_male_prop = len(males)/len(gender_df)\n",
    "theoretical_male_prop"
   ]
  },
  {
   "cell_type": "code",
   "execution_count": 28,
   "metadata": {},
   "outputs": [
    {
     "data": {
      "text/plain": [
       "0.3297421106209705"
      ]
     },
     "execution_count": 28,
     "metadata": {},
     "output_type": "execute_result"
    }
   ],
   "source": [
    "theoretical_female_prop = len(females)/len(gender_df)\n",
    "theoretical_female_prop"
   ]
  },
  {
   "cell_type": "code",
   "execution_count": 29,
   "metadata": {},
   "outputs": [
    {
     "data": {
      "text/html": [
       "<div>\n",
       "<style scoped>\n",
       "    .dataframe tbody tr th:only-of-type {\n",
       "        vertical-align: middle;\n",
       "    }\n",
       "\n",
       "    .dataframe tbody tr th {\n",
       "        vertical-align: top;\n",
       "    }\n",
       "\n",
       "    .dataframe thead th {\n",
       "        text-align: right;\n",
       "    }\n",
       "</style>\n",
       "<table border=\"1\" class=\"dataframe\">\n",
       "  <thead>\n",
       "    <tr style=\"text-align: right;\">\n",
       "      <th></th>\n",
       "      <th>Gender</th>\n",
       "      <th>Theoretical Proportion</th>\n",
       "      <th>Actual Proportion</th>\n",
       "    </tr>\n",
       "  </thead>\n",
       "  <tbody>\n",
       "    <tr>\n",
       "      <th>0</th>\n",
       "      <td>Male</td>\n",
       "      <td>0.670258</td>\n",
       "      <td>0.711041</td>\n",
       "    </tr>\n",
       "    <tr>\n",
       "      <th>1</th>\n",
       "      <td>Female</td>\n",
       "      <td>0.329742</td>\n",
       "      <td>0.288959</td>\n",
       "    </tr>\n",
       "  </tbody>\n",
       "</table>\n",
       "</div>"
      ],
      "text/plain": [
       "   Gender  Theoretical Proportion  Actual Proportion\n",
       "0    Male                0.670258           0.711041\n",
       "1  Female                0.329742           0.288959"
      ]
     },
     "execution_count": 29,
     "metadata": {},
     "output_type": "execute_result"
    }
   ],
   "source": [
    "execs = pd.DataFrame({'Gender' : [ 'Male', 'Female'],\n",
    "                      'Theoretical Proportion' : [theoretical_male_prop, theoretical_female_prop],\n",
    "                      'Actual Proportion' : [male_prop, female_prop],})\n",
    "execs"
   ]
  },
  {
   "cell_type": "markdown",
   "metadata": {},
   "source": [
    "**Results/Observations:**"
   ]
  },
  {
   "cell_type": "markdown",
   "metadata": {},
   "source": [
    "Theoretically, 67% of the executives in the dataset would be male, while the rest would be female. However, in reality, males make up a larger proportion of the number of executives. It seems as though there does exist a gender gap within the company leadership."
   ]
  },
  {
   "cell_type": "markdown",
   "metadata": {},
   "source": [
    "## Block #2 Among LinkedIn users who work at large companies, is the proportion of users who include a profile picture larger than the proportion without profile pictures?"
   ]
  },
  {
   "cell_type": "markdown",
   "metadata": {},
   "source": [
    "A piece of advice that I've heard repeatedly is: If you want to work at a good company or a big company, the first thing you need to do in order to improve your chances is add a profile picture to your LinkedIn. LinkedIn CEO Jeff Weiner (link: https://www.youtube.com/watch?v=RuAo2_LXNWA) mentioned this when attending speaker panels at Penn. Do people who include profile pictures actually have a better shot at working at a big company?"
   ]
  },
  {
   "cell_type": "markdown",
   "metadata": {},
   "source": [
    "**1. Filter for rows where companyStaffCount is greater than the mean**"
   ]
  },
  {
   "cell_type": "code",
   "execution_count": 30,
   "metadata": {},
   "outputs": [],
   "source": [
    "co_staffcount_mean = linkedin_updated['companyStaffCount'].mean()"
   ]
  },
  {
   "cell_type": "code",
   "execution_count": 31,
   "metadata": {},
   "outputs": [],
   "source": [
    "large_co = linkedin_updated[linkedin_updated['companyStaffCount']>co_staffcount_mean]"
   ]
  },
  {
   "cell_type": "markdown",
   "metadata": {},
   "source": [
    "**2. Count the number of users who have profile pictures among the large_co dataframe**"
   ]
  },
  {
   "cell_type": "code",
   "execution_count": 32,
   "metadata": {},
   "outputs": [],
   "source": [
    "num_no_pfp_large = np.count_nonzero(large_co['hasPicture'] == 0.0)"
   ]
  },
  {
   "cell_type": "code",
   "execution_count": 33,
   "metadata": {},
   "outputs": [],
   "source": [
    "num_yes_pfp_large = np.count_nonzero(large_co['hasPicture'] == 1.0)"
   ]
  },
  {
   "cell_type": "code",
   "execution_count": 34,
   "metadata": {},
   "outputs": [],
   "source": [
    "no_pfp_large_prop = num_no_pfp_large/(num_no_pfp_large+num_yes_pfp_large)"
   ]
  },
  {
   "cell_type": "code",
   "execution_count": 35,
   "metadata": {},
   "outputs": [],
   "source": [
    "yes_pfp_large_prop = num_yes_pfp_large/(num_no_pfp_large+num_yes_pfp_large)"
   ]
  },
  {
   "cell_type": "markdown",
   "metadata": {},
   "source": [
    "**3. Compare with smaller companies**"
   ]
  },
  {
   "cell_type": "code",
   "execution_count": 36,
   "metadata": {},
   "outputs": [],
   "source": [
    "small_co = linkedin_updated[linkedin_updated['companyStaffCount']<co_staffcount_mean]"
   ]
  },
  {
   "cell_type": "code",
   "execution_count": 37,
   "metadata": {},
   "outputs": [],
   "source": [
    "num_no_pfp_small = np.count_nonzero(small_co['hasPicture'] == 0.0)"
   ]
  },
  {
   "cell_type": "code",
   "execution_count": 38,
   "metadata": {},
   "outputs": [],
   "source": [
    "num_yes_pfp_small = np.count_nonzero(small_co['hasPicture'] == 1.0)"
   ]
  },
  {
   "cell_type": "code",
   "execution_count": 39,
   "metadata": {},
   "outputs": [],
   "source": [
    "no_pfp_small_prop = num_no_pfp_small/(num_no_pfp_small+num_yes_pfp_small)"
   ]
  },
  {
   "cell_type": "code",
   "execution_count": 40,
   "metadata": {},
   "outputs": [],
   "source": [
    "yes_pfp_small_prop = num_yes_pfp_small/(num_no_pfp_small+num_yes_pfp_small)"
   ]
  },
  {
   "cell_type": "code",
   "execution_count": 41,
   "metadata": {},
   "outputs": [
    {
     "data": {
      "text/html": [
       "<div>\n",
       "<style scoped>\n",
       "    .dataframe tbody tr th:only-of-type {\n",
       "        vertical-align: middle;\n",
       "    }\n",
       "\n",
       "    .dataframe tbody tr th {\n",
       "        vertical-align: top;\n",
       "    }\n",
       "\n",
       "    .dataframe thead th {\n",
       "        text-align: right;\n",
       "    }\n",
       "</style>\n",
       "<table border=\"1\" class=\"dataframe\">\n",
       "  <thead>\n",
       "    <tr style=\"text-align: right;\">\n",
       "      <th></th>\n",
       "      <th>Has Profile Picture</th>\n",
       "      <th>Small Company</th>\n",
       "      <th>Large Company</th>\n",
       "    </tr>\n",
       "  </thead>\n",
       "  <tbody>\n",
       "    <tr>\n",
       "      <th>0</th>\n",
       "      <td>Yes</td>\n",
       "      <td>0.750062</td>\n",
       "      <td>0.741531</td>\n",
       "    </tr>\n",
       "    <tr>\n",
       "      <th>1</th>\n",
       "      <td>No</td>\n",
       "      <td>0.249938</td>\n",
       "      <td>0.258469</td>\n",
       "    </tr>\n",
       "  </tbody>\n",
       "</table>\n",
       "</div>"
      ],
      "text/plain": [
       "  Has Profile Picture  Small Company  Large Company\n",
       "0                 Yes       0.750062       0.741531\n",
       "1                  No       0.249938       0.258469"
      ]
     },
     "execution_count": 41,
     "metadata": {},
     "output_type": "execute_result"
    }
   ],
   "source": [
    "pfp = pd.DataFrame({'Has Profile Picture' : [ 'Yes', 'No'],\n",
    "                      'Small Company' : [yes_pfp_small_prop, no_pfp_small_prop],\n",
    "                      'Large Company' : [yes_pfp_large_prop, no_pfp_large_prop],})\n",
    "pfp"
   ]
  },
  {
   "cell_type": "code",
   "execution_count": 42,
   "metadata": {},
   "outputs": [
    {
     "data": {
      "text/plain": [
       "Text(0, 0.5, 'Ratio')"
      ]
     },
     "execution_count": 42,
     "metadata": {},
     "output_type": "execute_result"
    },
    {
     "data": {
      "image/png": "[encoded data removed]",
      "text/plain": [
       "<Figure size 576x360 with 1 Axes>"
      ]
     },
     "metadata": {
      "needs_background": "light"
     },
     "output_type": "display_data"
    }
   ],
   "source": [
    "pfp.plot(kind='bar', x='Has Profile Picture', figsize=(8,5))\n",
    "plt.title('Profile Picture: Small vs. Large Company')\n",
    "plt.ylabel('Ratio')"
   ]
  },
  {
   "cell_type": "markdown",
   "metadata": {},
   "source": [
    "LinkedIn users who include a profile picture comprise of 74% of users working at large companies. Even among the population of users working at smaller companies, a large percentage (75%) of them include a profile picture. Thus, including a profile picture would not be harmful to one's profile, and instead, can be benefitial."
   ]
  },
  {
   "cell_type": "markdown",
   "metadata": {},
   "source": [
    "## Block #3 Are there more LinkedIn Premium members than regular users working at well-known companies?"
   ]
  },
  {
   "cell_type": "markdown",
   "metadata": {},
   "source": [
    "LinkedIn's premium membership allows users to easily connect with hiring managers, see who has viewed their profile, and access 15,000 expert-led LinkedIn Learning courses. It's priced up to $59.99 per month for job seekers, and it's said to be an investment for one's career. But, does the membership actually result in users working at the prestigious companies they're aiming for?"
   ]
  },
  {
   "cell_type": "markdown",
   "metadata": {},
   "source": [
    "**1. Filter for rows where companyFollowerCount is greater than the mean**"
   ]
  },
  {
   "cell_type": "code",
   "execution_count": 43,
   "metadata": {},
   "outputs": [],
   "source": [
    "unique_companies_df = linkedin_updated.groupby(['companyName']).agg({'companyFollowerCount':'mean'})\n",
    "follower_count_mean = unique_companies_df['companyFollowerCount'].mean()"
   ]
  },
  {
   "cell_type": "code",
   "execution_count": 44,
   "metadata": {},
   "outputs": [],
   "source": [
    "wellknown_company = linkedin_updated[linkedin_updated['companyFollowerCount']>follower_count_mean]"
   ]
  },
  {
   "cell_type": "code",
   "execution_count": 45,
   "metadata": {},
   "outputs": [
    {
     "data": {
      "text/plain": [
       "(15488, 11)"
      ]
     },
     "execution_count": 45,
     "metadata": {},
     "output_type": "execute_result"
    }
   ],
   "source": [
    "wellknown_company.shape"
   ]
  },
  {
   "cell_type": "markdown",
   "metadata": {},
   "source": [
    "**2. Count the number of Premium users vs. regular users**"
   ]
  },
  {
   "cell_type": "code",
   "execution_count": 46,
   "metadata": {},
   "outputs": [
    {
     "data": {
      "text/plain": [
       "1827"
      ]
     },
     "execution_count": 46,
     "metadata": {},
     "output_type": "execute_result"
    }
   ],
   "source": [
    "premium_wk = wellknown_company[wellknown_company['isPremium'] == 1.0]\n",
    "len(premium_wk)"
   ]
  },
  {
   "cell_type": "code",
   "execution_count": 47,
   "metadata": {},
   "outputs": [
    {
     "data": {
      "text/plain": [
       "13661"
      ]
     },
     "execution_count": 47,
     "metadata": {},
     "output_type": "execute_result"
    }
   ],
   "source": [
    "regular_wk = wellknown_company[wellknown_company['isPremium'] == 0.0]\n",
    "len(regular_wk)"
   ]
  },
  {
   "cell_type": "code",
   "execution_count": 48,
   "metadata": {},
   "outputs": [
    {
     "data": {
      "text/plain": [
       "0.11796229338842976"
      ]
     },
     "execution_count": 48,
     "metadata": {},
     "output_type": "execute_result"
    }
   ],
   "source": [
    "premium_wk_prop = len(premium_wk)/len(wellknown_company)\n",
    "premium_wk_prop"
   ]
  },
  {
   "cell_type": "code",
   "execution_count": 49,
   "metadata": {},
   "outputs": [
    {
     "data": {
      "text/plain": [
       "0.8820377066115702"
      ]
     },
     "execution_count": 49,
     "metadata": {},
     "output_type": "execute_result"
    }
   ],
   "source": [
    "regular_wk_prop = len(regular_wk)/len(wellknown_company)\n",
    "regular_wk_prop"
   ]
  },
  {
   "cell_type": "markdown",
   "metadata": {},
   "source": [
    "**3. Compare with lesser-known companies**"
   ]
  },
  {
   "cell_type": "code",
   "execution_count": 50,
   "metadata": {},
   "outputs": [],
   "source": [
    "lesserknown_company = linkedin_updated[linkedin_updated['companyFollowerCount']<follower_count_mean]"
   ]
  },
  {
   "cell_type": "code",
   "execution_count": 51,
   "metadata": {},
   "outputs": [
    {
     "data": {
      "text/plain": [
       "3078"
      ]
     },
     "execution_count": 51,
     "metadata": {},
     "output_type": "execute_result"
    }
   ],
   "source": [
    "premium_lk = lesserknown_company[lesserknown_company['isPremium'] == 1.0]\n",
    "len(premium_lk)"
   ]
  },
  {
   "cell_type": "code",
   "execution_count": 52,
   "metadata": {},
   "outputs": [
    {
     "data": {
      "text/plain": [
       "19288"
      ]
     },
     "execution_count": 52,
     "metadata": {},
     "output_type": "execute_result"
    }
   ],
   "source": [
    "regular_lk = lesserknown_company[lesserknown_company['isPremium'] == 0.0]\n",
    "len(regular_lk)"
   ]
  },
  {
   "cell_type": "code",
   "execution_count": 53,
   "metadata": {},
   "outputs": [
    {
     "data": {
      "text/plain": [
       "0.13761960118036304"
      ]
     },
     "execution_count": 53,
     "metadata": {},
     "output_type": "execute_result"
    }
   ],
   "source": [
    "premium_lk_prop = len(premium_lk)/len(lesserknown_company)\n",
    "premium_lk_prop"
   ]
  },
  {
   "cell_type": "code",
   "execution_count": 54,
   "metadata": {},
   "outputs": [
    {
     "data": {
      "text/plain": [
       "0.8623803988196369"
      ]
     },
     "execution_count": 54,
     "metadata": {},
     "output_type": "execute_result"
    }
   ],
   "source": [
    "regular_lk_prop = len(regular_lk)/len(lesserknown_company)\n",
    "regular_lk_prop"
   ]
  },
  {
   "cell_type": "markdown",
   "metadata": {},
   "source": [
    "**4. Compare with overall population averages.**"
   ]
  },
  {
   "cell_type": "code",
   "execution_count": 55,
   "metadata": {},
   "outputs": [],
   "source": [
    "premium_overall = len(linkedin_updated[linkedin_updated['isPremium']==1])/len(linkedin_updated)"
   ]
  },
  {
   "cell_type": "code",
   "execution_count": 56,
   "metadata": {},
   "outputs": [],
   "source": [
    "regular_overall = len(linkedin_updated[linkedin_updated['isPremium']==0])/len(linkedin_updated)"
   ]
  },
  {
   "cell_type": "code",
   "execution_count": 57,
   "metadata": {},
   "outputs": [
    {
     "data": {
      "text/html": [
       "<div>\n",
       "<style scoped>\n",
       "    .dataframe tbody tr th:only-of-type {\n",
       "        vertical-align: middle;\n",
       "    }\n",
       "\n",
       "    .dataframe tbody tr th {\n",
       "        vertical-align: top;\n",
       "    }\n",
       "\n",
       "    .dataframe thead th {\n",
       "        text-align: right;\n",
       "    }\n",
       "</style>\n",
       "<table border=\"1\" class=\"dataframe\">\n",
       "  <thead>\n",
       "    <tr style=\"text-align: right;\">\n",
       "      <th></th>\n",
       "      <th>User Type</th>\n",
       "      <th>Lesser Known Company</th>\n",
       "      <th>Well Known Company</th>\n",
       "      <th>Overall</th>\n",
       "    </tr>\n",
       "  </thead>\n",
       "  <tbody>\n",
       "    <tr>\n",
       "      <th>0</th>\n",
       "      <td>Premium</td>\n",
       "      <td>0.13762</td>\n",
       "      <td>0.117962</td>\n",
       "      <td>0.130533</td>\n",
       "    </tr>\n",
       "    <tr>\n",
       "      <th>1</th>\n",
       "      <td>Regular</td>\n",
       "      <td>0.86238</td>\n",
       "      <td>0.882038</td>\n",
       "      <td>0.869467</td>\n",
       "    </tr>\n",
       "  </tbody>\n",
       "</table>\n",
       "</div>"
      ],
      "text/plain": [
       "  User Type  Lesser Known Company  Well Known Company   Overall\n",
       "0   Premium               0.13762            0.117962  0.130533\n",
       "1   Regular               0.86238            0.882038  0.869467"
      ]
     },
     "execution_count": 57,
     "metadata": {},
     "output_type": "execute_result"
    }
   ],
   "source": [
    "membership = pd.DataFrame({'User Type' : [ 'Premium', 'Regular'],\n",
    "                      'Lesser Known Company' : [premium_lk_prop, regular_lk_prop],\n",
    "                      'Well Known Company' : [premium_wk_prop, regular_wk_prop],\n",
    "                          'Overall': [premium_overall, regular_overall]})\n",
    "membership"
   ]
  },
  {
   "cell_type": "code",
   "execution_count": 58,
   "metadata": {},
   "outputs": [
    {
     "data": {
      "text/plain": [
       "<AxesSubplot:xlabel='User Type'>"
      ]
     },
     "execution_count": 58,
     "metadata": {},
     "output_type": "execute_result"
    },
    {
     "data": {
      "image/png": "[encoded data removed]",
      "text/plain": [
       "<Figure size 432x288 with 1 Axes>"
      ]
     },
     "metadata": {
      "needs_background": "light"
     },
     "output_type": "display_data"
    }
   ],
   "source": [
    "membership.plot(kind='bar', x='User Type')"
   ]
  },
  {
   "cell_type": "markdown",
   "metadata": {},
   "source": [
    "**Results/Observations:**"
   ]
  },
  {
   "cell_type": "markdown",
   "metadata": {},
   "source": [
    "Surprisingly, the proportion of Premium LinkedIn users is lower among the population of users working in well-known companies, compared to the proportion among users working in lesser-known companies. Although LinkedIn promotes the perks of their Premium membership, the investment might not be worth it after all."
   ]
  },
  {
   "cell_type": "markdown",
   "metadata": {},
   "source": [
    "## Block #4: Do millenials tend to switch positions more frequently than other age groups?"
   ]
  },
  {
   "cell_type": "markdown",
   "metadata": {},
   "source": [
    "Millenials are often said to face commitment issues when it comes to their professional lives. But, do millenials actually job-hop (working briefly in job positions instead of staying for the long-term) more than the generations that preceded them? While investigating this matter, I came across two contrasting takes: a report by Gallup (an analytics and advisory company) and an article by Thrive Global (a behavior change technology and media provider company). The Gallup report indicated that millennials do, in fact, live up to their reputation of being job-hoppers, while the Thrive Global report challenged this view; terming it as a myth and 'busting' it."
   ]
  },
  {
   "cell_type": "markdown",
   "metadata": {},
   "source": [
    "Links to references: \\\n",
    "https://thriveglobal.com/stories/debunking-the-job-hopping-myth-millenials-are-not-that-bad/ \\\n",
    "https://www.gallup.com/workplace/231587/millennials-job-hopping-generation.aspx"
   ]
  },
  {
   "cell_type": "markdown",
   "metadata": {},
   "source": [
    "**1. Create column that classifies whether or not a LinkedIn user is a millenial**"
   ]
  },
  {
   "cell_type": "code",
   "execution_count": 59,
   "metadata": {},
   "outputs": [],
   "source": [
    "def mill(x):\n",
    "    if x < 37:\n",
    "        return True\n",
    "    else:\n",
    "        return False"
   ]
  },
  {
   "cell_type": "code",
   "execution_count": 60,
   "metadata": {},
   "outputs": [],
   "source": [
    "linkedin_updated['millenial'] = linkedin_updated['ageEstimate'].apply(mill)"
   ]
  },
  {
   "cell_type": "code",
   "execution_count": 61,
   "metadata": {},
   "outputs": [
    {
     "data": {
      "text/html": [
       "<div>\n",
       "<style scoped>\n",
       "    .dataframe tbody tr th:only-of-type {\n",
       "        vertical-align: middle;\n",
       "    }\n",
       "\n",
       "    .dataframe tbody tr th {\n",
       "        vertical-align: top;\n",
       "    }\n",
       "\n",
       "    .dataframe thead th {\n",
       "        text-align: right;\n",
       "    }\n",
       "</style>\n",
       "<table border=\"1\" class=\"dataframe\">\n",
       "  <thead>\n",
       "    <tr style=\"text-align: right;\">\n",
       "      <th></th>\n",
       "      <th>ageEstimate</th>\n",
       "      <th>companyFollowerCount</th>\n",
       "      <th>companyName</th>\n",
       "      <th>companyStaffCount</th>\n",
       "      <th>connectionsCount</th>\n",
       "      <th>followersCount</th>\n",
       "      <th>genderEstimate</th>\n",
       "      <th>hasPicture</th>\n",
       "      <th>isPremium</th>\n",
       "      <th>posTitle</th>\n",
       "      <th>avgMemberPosDuration</th>\n",
       "      <th>millenial</th>\n",
       "    </tr>\n",
       "  </thead>\n",
       "  <tbody>\n",
       "    <tr>\n",
       "      <th>0</th>\n",
       "      <td>41.0</td>\n",
       "      <td>198859.0</td>\n",
       "      <td>Commonwealth Bank</td>\n",
       "      <td>32905.0</td>\n",
       "      <td>500.0</td>\n",
       "      <td>506.0</td>\n",
       "      <td>0.0</td>\n",
       "      <td>0</td>\n",
       "      <td>0.0</td>\n",
       "      <td>Portfolio Executive</td>\n",
       "      <td>760.5000</td>\n",
       "      <td>False</td>\n",
       "    </tr>\n",
       "    <tr>\n",
       "      <th>1</th>\n",
       "      <td>41.0</td>\n",
       "      <td>198859.0</td>\n",
       "      <td>Commonwealth Bank</td>\n",
       "      <td>32905.0</td>\n",
       "      <td>500.0</td>\n",
       "      <td>506.0</td>\n",
       "      <td>0.0</td>\n",
       "      <td>0</td>\n",
       "      <td>0.0</td>\n",
       "      <td>Solution Delivery Executive</td>\n",
       "      <td>760.5000</td>\n",
       "      <td>False</td>\n",
       "    </tr>\n",
       "    <tr>\n",
       "      <th>2</th>\n",
       "      <td>41.0</td>\n",
       "      <td>10047.0</td>\n",
       "      <td>CommSec</td>\n",
       "      <td>619.0</td>\n",
       "      <td>500.0</td>\n",
       "      <td>506.0</td>\n",
       "      <td>0.0</td>\n",
       "      <td>0</td>\n",
       "      <td>0.0</td>\n",
       "      <td>Project Manager</td>\n",
       "      <td>760.5000</td>\n",
       "      <td>False</td>\n",
       "    </tr>\n",
       "    <tr>\n",
       "      <th>3</th>\n",
       "      <td>41.0</td>\n",
       "      <td>198859.0</td>\n",
       "      <td>Commonwealth Bank</td>\n",
       "      <td>32905.0</td>\n",
       "      <td>500.0</td>\n",
       "      <td>506.0</td>\n",
       "      <td>0.0</td>\n",
       "      <td>0</td>\n",
       "      <td>0.0</td>\n",
       "      <td>Project Manager</td>\n",
       "      <td>760.5000</td>\n",
       "      <td>False</td>\n",
       "    </tr>\n",
       "    <tr>\n",
       "      <th>4</th>\n",
       "      <td>30.0</td>\n",
       "      <td>300723.0</td>\n",
       "      <td>PayPal</td>\n",
       "      <td>22522.0</td>\n",
       "      <td>500.0</td>\n",
       "      <td>951.0</td>\n",
       "      <td>1.0</td>\n",
       "      <td>1</td>\n",
       "      <td>0.0</td>\n",
       "      <td>Senior Marketing Manager</td>\n",
       "      <td>395.2857</td>\n",
       "      <td>True</td>\n",
       "    </tr>\n",
       "  </tbody>\n",
       "</table>\n",
       "</div>"
      ],
      "text/plain": [
       "   ageEstimate  companyFollowerCount        companyName  companyStaffCount  \\\n",
       "0         41.0              198859.0  Commonwealth Bank            32905.0   \n",
       "1         41.0              198859.0  Commonwealth Bank            32905.0   \n",
       "2         41.0               10047.0            CommSec              619.0   \n",
       "3         41.0              198859.0  Commonwealth Bank            32905.0   \n",
       "4         30.0              300723.0             PayPal            22522.0   \n",
       "\n",
       "   connectionsCount  followersCount  genderEstimate  hasPicture  isPremium  \\\n",
       "0             500.0           506.0             0.0           0        0.0   \n",
       "1             500.0           506.0             0.0           0        0.0   \n",
       "2             500.0           506.0             0.0           0        0.0   \n",
       "3             500.0           506.0             0.0           0        0.0   \n",
       "4             500.0           951.0             1.0           1        0.0   \n",
       "\n",
       "                      posTitle  avgMemberPosDuration  millenial  \n",
       "0          Portfolio Executive              760.5000      False  \n",
       "1  Solution Delivery Executive              760.5000      False  \n",
       "2              Project Manager              760.5000      False  \n",
       "3              Project Manager              760.5000      False  \n",
       "4     Senior Marketing Manager              395.2857       True  "
      ]
     },
     "execution_count": 61,
     "metadata": {},
     "output_type": "execute_result"
    }
   ],
   "source": [
    "linkedin_updated.head()"
   ]
  },
  {
   "cell_type": "markdown",
   "metadata": {},
   "source": [
    "**2. Remove Interns from the dataset because their terms are meant to be temporary, and thus, it will skew position duration to be shorter**"
   ]
  },
  {
   "cell_type": "code",
   "execution_count": 62,
   "metadata": {},
   "outputs": [],
   "source": [
    "interns = linkedin_updated[linkedin_updated['posTitle'].str.endswith('Intern')]\n",
    "intern_filter = list(interns['posTitle'])\n",
    "linkedin_jobhop_check = linkedin_updated[~linkedin_updated['posTitle'].isin(intern_filter)]\n",
    "linkedin_jobhop_check['millenial'] = linkedin_jobhop_check['ageEstimate'].apply(mill)"
   ]
  },
  {
   "cell_type": "markdown",
   "metadata": {},
   "source": [
    "**3. Find mean of `avgMemberPosDuration` for millenials**"
   ]
  },
  {
   "cell_type": "code",
   "execution_count": 63,
   "metadata": {},
   "outputs": [],
   "source": [
    "millenial = linkedin_jobhop_check[linkedin_jobhop_check['millenial']==True]"
   ]
  },
  {
   "cell_type": "code",
   "execution_count": 64,
   "metadata": {},
   "outputs": [
    {
     "data": {
      "text/plain": [
       "656.0142387997422"
      ]
     },
     "execution_count": 64,
     "metadata": {},
     "output_type": "execute_result"
    }
   ],
   "source": [
    "millenial['avgMemberPosDuration'].mean()"
   ]
  },
  {
   "cell_type": "markdown",
   "metadata": {},
   "source": [
    "**4. Compare this with the mean of `avgMemberPosDuration` for non-millenials**"
   ]
  },
  {
   "cell_type": "code",
   "execution_count": 65,
   "metadata": {},
   "outputs": [],
   "source": [
    "non_millenial = linkedin_jobhop_check[linkedin_jobhop_check['millenial']==False]"
   ]
  },
  {
   "cell_type": "code",
   "execution_count": 66,
   "metadata": {
    "scrolled": true
   },
   "outputs": [
    {
     "data": {
      "text/plain": [
       "1057.7825431874624"
      ]
     },
     "execution_count": 66,
     "metadata": {},
     "output_type": "execute_result"
    }
   ],
   "source": [
    "non_millenial['avgMemberPosDuration'].mean()"
   ]
  },
  {
   "cell_type": "code",
   "execution_count": 67,
   "metadata": {
    "scrolled": true
   },
   "outputs": [
    {
     "data": {
      "text/plain": [
       "1.6124383902440962"
      ]
     },
     "execution_count": 67,
     "metadata": {},
     "output_type": "execute_result"
    }
   ],
   "source": [
    "non_millenial['avgMemberPosDuration'].mean()/millenial['avgMemberPosDuration'].mean()"
   ]
  },
  {
   "cell_type": "markdown",
   "metadata": {},
   "source": [
    "**5. Create a boxplot that clearly compares the main statistics of the two generational groups**"
   ]
  },
  {
   "cell_type": "code",
   "execution_count": 68,
   "metadata": {},
   "outputs": [
    {
     "data": {
      "text/plain": [
       "Text(0.5, 0, 'Millenial: True of False')"
      ]
     },
     "execution_count": 68,
     "metadata": {},
     "output_type": "execute_result"
    },
    {
     "data": {
      "image/png": "[encoded data removed]",
      "text/plain": [
       "<Figure size 720x432 with 1 Axes>"
      ]
     },
     "metadata": {
      "needs_background": "light"
     },
     "output_type": "display_data"
    }
   ],
   "source": [
    "plt.figure(figsize=(10,6))\n",
    "ax = sns.boxplot(y='avgMemberPosDuration', x='millenial', data=linkedin_jobhop_check, width=0.5, palette=\"colorblind\", showfliers=False)\n",
    "ax.set_title('Position Duration: Millenials vs. Non-Millenials')\n",
    "ax.set_ylabel('Position Duration')\n",
    "ax.set_xlabel('Millenial: True of False')"
   ]
  },
  {
   "cell_type": "markdown",
   "metadata": {},
   "source": [
    "**Results/Observations:**"
   ]
  },
  {
   "cell_type": "markdown",
   "metadata": {},
   "source": [
    "Within this particular dataset, millenials do, indeed, tend to remain in their position for less time than non-millenials. This indicates that the term that Gallup uses (\"job-hopping generation\") to describe millenials holds some truth."
   ]
  },
  {
   "cell_type": "markdown",
   "metadata": {},
   "source": [
    "## Block #5 Do the proportion of Asians, Whites, and Blacks working at Fortune 500 companies reflect their overall population proportions?"
   ]
  },
  {
   "cell_type": "markdown",
   "metadata": {},
   "source": [
    "Many Fortune 500 companies claim to provide an inclusive work environment for their employees. They often boast about their diversity, equity, and inclusion initiatives. But, are Fortune 500 companies as diverse as they claim to be?"
   ]
  },
  {
   "cell_type": "markdown",
   "metadata": {},
   "source": [
    "Note: Because the `linkedin_updated` dataframe does not include `ethnicity`, I'll be using the `linkedin_original` dataframe for this analysis"
   ]
  },
  {
   "cell_type": "markdown",
   "metadata": {},
   "source": [
    "**1. Create a column `f_500_check` that classifies whether or not the company that a LinkedIn user works at is included on the Fortune 500 list**"
   ]
  },
  {
   "cell_type": "code",
   "execution_count": 69,
   "metadata": {},
   "outputs": [],
   "source": [
    "#upload csv with Fortune 500 list\n",
    "f_500 = pd.read_csv('../data/raw/Fortune500.csv', encoding='latin-1')"
   ]
  },
  {
   "cell_type": "code",
   "execution_count": 70,
   "metadata": {},
   "outputs": [
    {
     "data": {
      "text/html": [
       "<div>\n",
       "<style scoped>\n",
       "    .dataframe tbody tr th:only-of-type {\n",
       "        vertical-align: middle;\n",
       "    }\n",
       "\n",
       "    .dataframe tbody tr th {\n",
       "        vertical-align: top;\n",
       "    }\n",
       "\n",
       "    .dataframe thead th {\n",
       "        text-align: right;\n",
       "    }\n",
       "</style>\n",
       "<table border=\"1\" class=\"dataframe\">\n",
       "  <thead>\n",
       "    <tr style=\"text-align: right;\">\n",
       "      <th></th>\n",
       "      <th>company_name</th>\n",
       "    </tr>\n",
       "  </thead>\n",
       "  <tbody>\n",
       "    <tr>\n",
       "      <th>0</th>\n",
       "      <td>Walmart</td>\n",
       "    </tr>\n",
       "    <tr>\n",
       "      <th>1</th>\n",
       "      <td>Amazon.com</td>\n",
       "    </tr>\n",
       "    <tr>\n",
       "      <th>2</th>\n",
       "      <td>Exxon Mobil</td>\n",
       "    </tr>\n",
       "    <tr>\n",
       "      <th>3</th>\n",
       "      <td>Apple</td>\n",
       "    </tr>\n",
       "    <tr>\n",
       "      <th>4</th>\n",
       "      <td>CVS Health</td>\n",
       "    </tr>\n",
       "  </tbody>\n",
       "</table>\n",
       "</div>"
      ],
      "text/plain": [
       "  company_name\n",
       "0      Walmart\n",
       "1   Amazon.com\n",
       "2  Exxon Mobil\n",
       "3        Apple\n",
       "4   CVS Health"
      ]
     },
     "execution_count": 70,
     "metadata": {},
     "output_type": "execute_result"
    }
   ],
   "source": [
    "f_500.rename(columns= {'ï»¿Company Name': 'company_name'}, inplace = True)\n",
    "f_500.head()"
   ]
  },
  {
   "cell_type": "code",
   "execution_count": 71,
   "metadata": {},
   "outputs": [],
   "source": [
    "f_500.to_csv('../data/clean/Fortune500.csv', index=False)"
   ]
  },
  {
   "cell_type": "code",
   "execution_count": 72,
   "metadata": {},
   "outputs": [],
   "source": [
    "f_500_check = np.where(linkedin_original.company_name.isin(f_500.company_name), True, False)"
   ]
  },
  {
   "cell_type": "code",
   "execution_count": 73,
   "metadata": {},
   "outputs": [],
   "source": [
    "linkedin_original['f_500_check'] = f_500_check"
   ]
  },
  {
   "cell_type": "code",
   "execution_count": 74,
   "metadata": {},
   "outputs": [
    {
     "data": {
      "text/html": [
       "<div>\n",
       "<style scoped>\n",
       "    .dataframe tbody tr th:only-of-type {\n",
       "        vertical-align: middle;\n",
       "    }\n",
       "\n",
       "    .dataframe tbody tr th {\n",
       "        vertical-align: top;\n",
       "    }\n",
       "\n",
       "    .dataframe thead th {\n",
       "        text-align: right;\n",
       "    }\n",
       "</style>\n",
       "<table border=\"1\" class=\"dataframe\">\n",
       "  <thead>\n",
       "    <tr style=\"text-align: right;\">\n",
       "      <th></th>\n",
       "      <th>avg_position_len</th>\n",
       "      <th>company_name</th>\n",
       "      <th>n_positions</th>\n",
       "      <th>age</th>\n",
       "      <th>beauty</th>\n",
       "      <th>blur</th>\n",
       "      <th>ethnicity</th>\n",
       "      <th>gender</th>\n",
       "      <th>smile</th>\n",
       "      <th>n_followers</th>\n",
       "      <th>f_500_check</th>\n",
       "    </tr>\n",
       "  </thead>\n",
       "  <tbody>\n",
       "    <tr>\n",
       "      <th>5</th>\n",
       "      <td>304.0</td>\n",
       "      <td>Microsoft</td>\n",
       "      <td>1</td>\n",
       "      <td>37</td>\n",
       "      <td>57.570</td>\n",
       "      <td>0.421</td>\n",
       "      <td>Asian</td>\n",
       "      <td>0</td>\n",
       "      <td>77.536</td>\n",
       "      <td>420</td>\n",
       "      <td>True</td>\n",
       "    </tr>\n",
       "    <tr>\n",
       "      <th>11</th>\n",
       "      <td>304.0</td>\n",
       "      <td>Microsoft</td>\n",
       "      <td>1</td>\n",
       "      <td>37</td>\n",
       "      <td>57.570</td>\n",
       "      <td>0.421</td>\n",
       "      <td>Asian</td>\n",
       "      <td>0</td>\n",
       "      <td>77.536</td>\n",
       "      <td>420</td>\n",
       "      <td>True</td>\n",
       "    </tr>\n",
       "    <tr>\n",
       "      <th>12</th>\n",
       "      <td>1430.0</td>\n",
       "      <td>Microsoft</td>\n",
       "      <td>1</td>\n",
       "      <td>52</td>\n",
       "      <td>61.982</td>\n",
       "      <td>0.249</td>\n",
       "      <td>White</td>\n",
       "      <td>0</td>\n",
       "      <td>73.185</td>\n",
       "      <td>311</td>\n",
       "      <td>True</td>\n",
       "    </tr>\n",
       "    <tr>\n",
       "      <th>15</th>\n",
       "      <td>1430.0</td>\n",
       "      <td>Microsoft</td>\n",
       "      <td>1</td>\n",
       "      <td>52</td>\n",
       "      <td>61.982</td>\n",
       "      <td>0.249</td>\n",
       "      <td>White</td>\n",
       "      <td>0</td>\n",
       "      <td>73.185</td>\n",
       "      <td>311</td>\n",
       "      <td>True</td>\n",
       "    </tr>\n",
       "    <tr>\n",
       "      <th>19</th>\n",
       "      <td>1003.0</td>\n",
       "      <td>Microsoft</td>\n",
       "      <td>1</td>\n",
       "      <td>28</td>\n",
       "      <td>81.561</td>\n",
       "      <td>0.568</td>\n",
       "      <td>Asian</td>\n",
       "      <td>1</td>\n",
       "      <td>68.108</td>\n",
       "      <td>331</td>\n",
       "      <td>True</td>\n",
       "    </tr>\n",
       "  </tbody>\n",
       "</table>\n",
       "</div>"
      ],
      "text/plain": [
       "    avg_position_len company_name  n_positions  age  beauty   blur ethnicity  \\\n",
       "5              304.0    Microsoft            1   37  57.570  0.421     Asian   \n",
       "11             304.0    Microsoft            1   37  57.570  0.421     Asian   \n",
       "12            1430.0    Microsoft            1   52  61.982  0.249     White   \n",
       "15            1430.0    Microsoft            1   52  61.982  0.249     White   \n",
       "19            1003.0    Microsoft            1   28  81.561  0.568     Asian   \n",
       "\n",
       "    gender   smile  n_followers  f_500_check  \n",
       "5        0  77.536          420         True  \n",
       "11       0  77.536          420         True  \n",
       "12       0  73.185          311         True  \n",
       "15       0  73.185          311         True  \n",
       "19       1  68.108          331         True  "
      ]
     },
     "execution_count": 74,
     "metadata": {},
     "output_type": "execute_result"
    }
   ],
   "source": [
    "f_500_df = linkedin_original[linkedin_original['f_500_check'] == True]\n",
    "f_500_df.head()"
   ]
  },
  {
   "cell_type": "markdown",
   "metadata": {},
   "source": [
    "**2. Find the proportion of different races working within Fortune 500 companies**"
   ]
  },
  {
   "cell_type": "code",
   "execution_count": 75,
   "metadata": {},
   "outputs": [],
   "source": [
    "asian_f500 = np.count_nonzero(f_500_df['ethnicity']=='Asian')\n",
    "white_f500 = np.count_nonzero(f_500_df['ethnicity']=='White')\n",
    "black_f500 = np.count_nonzero(f_500_df['ethnicity']=='Black')"
   ]
  },
  {
   "cell_type": "code",
   "execution_count": 76,
   "metadata": {},
   "outputs": [],
   "source": [
    "asian_f500_prop = asian_f500/(asian_f500+white_f500+black_f500)\n",
    "white_f500_prop = white_f500/(asian_f500+white_f500+black_f500)\n",
    "black_f500_prop = black_f500/(asian_f500+white_f500+black_f500)"
   ]
  },
  {
   "cell_type": "markdown",
   "metadata": {},
   "source": [
    "**3. Compare with the overall proportions**"
   ]
  },
  {
   "cell_type": "code",
   "execution_count": 77,
   "metadata": {},
   "outputs": [],
   "source": [
    "white_prop = (linkedin_original['ethnicity']=='White').sum()/len(linkedin_original)\n",
    "asian_prop = (linkedin_original['ethnicity']=='Asian').sum()/len(linkedin_original)\n",
    "black_prop = (linkedin_original['ethnicity']=='Black').sum()/len(linkedin_original)"
   ]
  },
  {
   "cell_type": "code",
   "execution_count": 78,
   "metadata": {},
   "outputs": [
    {
     "data": {
      "text/html": [
       "<div>\n",
       "<style scoped>\n",
       "    .dataframe tbody tr th:only-of-type {\n",
       "        vertical-align: middle;\n",
       "    }\n",
       "\n",
       "    .dataframe tbody tr th {\n",
       "        vertical-align: top;\n",
       "    }\n",
       "\n",
       "    .dataframe thead th {\n",
       "        text-align: right;\n",
       "    }\n",
       "</style>\n",
       "<table border=\"1\" class=\"dataframe\">\n",
       "  <thead>\n",
       "    <tr style=\"text-align: right;\">\n",
       "      <th></th>\n",
       "      <th>Race</th>\n",
       "      <th>All LinkedIn Users</th>\n",
       "      <th>Fortune 500</th>\n",
       "    </tr>\n",
       "  </thead>\n",
       "  <tbody>\n",
       "    <tr>\n",
       "      <th>0</th>\n",
       "      <td>Asian</td>\n",
       "      <td>0.155332</td>\n",
       "      <td>0.172531</td>\n",
       "    </tr>\n",
       "    <tr>\n",
       "      <th>1</th>\n",
       "      <td>White</td>\n",
       "      <td>0.766630</td>\n",
       "      <td>0.743079</td>\n",
       "    </tr>\n",
       "    <tr>\n",
       "      <th>2</th>\n",
       "      <td>Black</td>\n",
       "      <td>0.078038</td>\n",
       "      <td>0.084390</td>\n",
       "    </tr>\n",
       "  </tbody>\n",
       "</table>\n",
       "</div>"
      ],
      "text/plain": [
       "    Race  All LinkedIn Users  Fortune 500\n",
       "0  Asian            0.155332     0.172531\n",
       "1  White            0.766630     0.743079\n",
       "2  Black            0.078038     0.084390"
      ]
     },
     "execution_count": 78,
     "metadata": {},
     "output_type": "execute_result"
    }
   ],
   "source": [
    "f500_race = pd.DataFrame({'Race' : [ 'Asian', 'White','Black'],\n",
    "                      'All LinkedIn Users' : [asian_prop, white_prop, black_prop],\n",
    "                      'Fortune 500' : [asian_f500_prop, white_f500_prop, black_f500_prop],})\n",
    "f500_race"
   ]
  },
  {
   "cell_type": "code",
   "execution_count": 79,
   "metadata": {},
   "outputs": [
    {
     "data": {
      "text/plain": [
       "Text(0, 0.5, 'Ratio')"
      ]
     },
     "execution_count": 79,
     "metadata": {},
     "output_type": "execute_result"
    },
    {
     "data": {
      "image/png": "[encoded data removed]",
      "text/plain": [
       "<Figure size 576x360 with 1 Axes>"
      ]
     },
     "metadata": {
      "needs_background": "light"
     },
     "output_type": "display_data"
    }
   ],
   "source": [
    "f500_race.plot(kind='bar', x='Race', figsize=(8,5))\n",
    "plt.title('Racial Diversity: Fortune 500 vs. Overall')\n",
    "plt.ylabel('Ratio')"
   ]
  },
  {
   "cell_type": "markdown",
   "metadata": {},
   "source": [
    "**Results/Observations:**"
   ]
  },
  {
   "cell_type": "markdown",
   "metadata": {},
   "source": [
    "The diversity within Fortune 500 companies reflects the diversity of the LinkedIn users within the dataset. In fact, there's a higher proportion of Asians and Blacks working in Fortune 500 companies than in the overall dataset.\n",
    "\n",
    "This is a great sign that Fortune 500 companies are heading in the right direction towards the diverse and inclusive vision that they have. However, further analysis should be done to see whether the racial minorities working at these companies are receiving the same career growth opportunities than Whites. Does a glass ceiling exist for Asians and Blacks who want to pursue certain promotions?"
   ]
  }
 ],
 "metadata": {
  "kernelspec": {
   "display_name": "Python 3",
   "language": "python",
   "name": "python3"
  },
  "language_info": {
   "codemirror_mode": {
    "name": "ipython",
    "version": 3
   },
   "file_extension": ".py",
   "mimetype": "text/x-python",
   "name": "python",
   "nbconvert_exporter": "python",
   "pygments_lexer": "ipython3",
   "version": "3.7.3"
  }
 },
 "nbformat": 4,
 "nbformat_minor": 2
}
