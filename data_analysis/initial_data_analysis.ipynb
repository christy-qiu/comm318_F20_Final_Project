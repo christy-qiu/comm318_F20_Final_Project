{
 "cells": [
  {
   "cell_type": "markdown",
   "metadata": {},
   "source": [
    "# Initial Data Analysis"
   ]
  },
  {
   "cell_type": "markdown",
   "metadata": {},
   "source": [
    "* What are the dimensions (number of rows and columns) of the data frame?\n",
    "* What does each row represent?\n",
    "    * Each row represents a different LinkedIn user\n",
    "* What do the columns mean?\n",
    "* Rename columns if necessary (e.g. no spaces, reasonable length, understandable)\n",
    "* Examine the distribution (i.e., the range or type of values in the key columns of interest)\n",
    "* If relevant visualize the data (e.g. plot a histogram, plot a line graph, etc.)\n",
    "* What observations and questions do you have after exploring your data?"
   ]
  },
  {
   "cell_type": "code",
   "execution_count": 1,
   "metadata": {},
   "outputs": [],
   "source": [
    "import pandas as pd\n",
    "import matplotlib.pyplot as plt\n",
    "import math"
   ]
  },
  {
   "cell_type": "markdown",
   "metadata": {},
   "source": [
    "## LinkedIn Data"
   ]
  },
  {
   "cell_type": "code",
   "execution_count": 2,
   "metadata": {},
   "outputs": [],
   "source": [
    "linkedin_df = pd.read_csv('../data/raw/linkedin_data_comm318.csv', encoding='latin-1')"
   ]
  },
  {
   "cell_type": "code",
   "execution_count": 3,
   "metadata": {},
   "outputs": [
    {
     "data": {
      "text/plain": [
       "(62709, 52)"
      ]
     },
     "execution_count": 3,
     "metadata": {},
     "output_type": "execute_result"
    }
   ],
   "source": [
    "linkedin_df.shape"
   ]
  },
  {
   "cell_type": "code",
   "execution_count": 4,
   "metadata": {},
   "outputs": [
    {
     "data": {
      "text/plain": [
       "Index(['Unnamed: 0', 'avg_n_pos_per_prev_tenure', 'avg_pos_len',\n",
       "       'avg_prev_tenure_len', 'c_name', 'm_urn', 'n_pos', 'n_prev_tenures',\n",
       "       'tenure_len', 'age', 'beauty', 'beauty_female', 'beauty_male', 'blur',\n",
       "       'blur_gaussian', 'blur_motion', 'emo_anger', 'emo_disgust', 'emo_fear',\n",
       "       'emo_happiness', 'emo_neutral', 'emo_sadness', 'emo_surprise',\n",
       "       'ethnicity', 'face_quality', 'gender', 'glass', 'head_pitch',\n",
       "       'head_roll', 'head_yaw', 'img', 'mouth_close', 'mouth_mask',\n",
       "       'mouth_open', 'mouth_other', 'skin_acne', 'skin_dark_circle',\n",
       "       'skin_health', 'skin_stain', 'smile', 'african', 'celtic_english',\n",
       "       'east_asian', 'european', 'greek', 'hispanic', 'jewish', 'muslim',\n",
       "       'nationality', 'nordic', 'south_asian', 'n_followers'],\n",
       "      dtype='object')"
      ]
     },
     "execution_count": 4,
     "metadata": {},
     "output_type": "execute_result"
    }
   ],
   "source": [
    "linkedin_df.columns"
   ]
  },
  {
   "cell_type": "code",
   "execution_count": 5,
   "metadata": {
    "scrolled": true
   },
   "outputs": [
    {
     "data": {
      "text/html": [
       "<div>\n",
       "<style scoped>\n",
       "    .dataframe tbody tr th:only-of-type {\n",
       "        vertical-align: middle;\n",
       "    }\n",
       "\n",
       "    .dataframe tbody tr th {\n",
       "        vertical-align: top;\n",
       "    }\n",
       "\n",
       "    .dataframe thead th {\n",
       "        text-align: right;\n",
       "    }\n",
       "</style>\n",
       "<table border=\"1\" class=\"dataframe\">\n",
       "  <thead>\n",
       "    <tr style=\"text-align: right;\">\n",
       "      <th></th>\n",
       "      <th>Unnamed: 0</th>\n",
       "      <th>avg_n_pos_per_prev_tenure</th>\n",
       "      <th>avg_pos_len</th>\n",
       "      <th>avg_prev_tenure_len</th>\n",
       "      <th>c_name</th>\n",
       "      <th>m_urn</th>\n",
       "      <th>n_pos</th>\n",
       "      <th>n_prev_tenures</th>\n",
       "      <th>tenure_len</th>\n",
       "      <th>age</th>\n",
       "      <th>...</th>\n",
       "      <th>east_asian</th>\n",
       "      <th>european</th>\n",
       "      <th>greek</th>\n",
       "      <th>hispanic</th>\n",
       "      <th>jewish</th>\n",
       "      <th>muslim</th>\n",
       "      <th>nationality</th>\n",
       "      <th>nordic</th>\n",
       "      <th>south_asian</th>\n",
       "      <th>n_followers</th>\n",
       "    </tr>\n",
       "  </thead>\n",
       "  <tbody>\n",
       "    <tr>\n",
       "      <th>0</th>\n",
       "      <td>0</td>\n",
       "      <td>2.000000</td>\n",
       "      <td>457.0</td>\n",
       "      <td>1338.0</td>\n",
       "      <td>TD</td>\n",
       "      <td>urn:li:member:149435456</td>\n",
       "      <td>1</td>\n",
       "      <td>1</td>\n",
       "      <td>457.0</td>\n",
       "      <td>37</td>\n",
       "      <td>...</td>\n",
       "      <td>0.877681</td>\n",
       "      <td>0.05267</td>\n",
       "      <td>3.167776e-08</td>\n",
       "      <td>0.000638</td>\n",
       "      <td>2.102663e-08</td>\n",
       "      <td>0.000001</td>\n",
       "      <td>east_asian</td>\n",
       "      <td>0.008284</td>\n",
       "      <td>0.000048</td>\n",
       "      <td>420</td>\n",
       "    </tr>\n",
       "    <tr>\n",
       "      <th>1</th>\n",
       "      <td>1</td>\n",
       "      <td>1.500000</td>\n",
       "      <td>212.0</td>\n",
       "      <td>897.5</td>\n",
       "      <td>Light Up The World (LUTW)</td>\n",
       "      <td>urn:li:member:149435456</td>\n",
       "      <td>1</td>\n",
       "      <td>2</td>\n",
       "      <td>212.0</td>\n",
       "      <td>37</td>\n",
       "      <td>...</td>\n",
       "      <td>0.877681</td>\n",
       "      <td>0.05267</td>\n",
       "      <td>3.167776e-08</td>\n",
       "      <td>0.000638</td>\n",
       "      <td>2.102663e-08</td>\n",
       "      <td>0.000001</td>\n",
       "      <td>east_asian</td>\n",
       "      <td>0.008284</td>\n",
       "      <td>0.000048</td>\n",
       "      <td>420</td>\n",
       "    </tr>\n",
       "    <tr>\n",
       "      <th>2</th>\n",
       "      <td>2</td>\n",
       "      <td>1.333333</td>\n",
       "      <td>243.0</td>\n",
       "      <td>669.0</td>\n",
       "      <td>Glacier</td>\n",
       "      <td>urn:li:member:149435456</td>\n",
       "      <td>1</td>\n",
       "      <td>3</td>\n",
       "      <td>243.0</td>\n",
       "      <td>37</td>\n",
       "      <td>...</td>\n",
       "      <td>0.877681</td>\n",
       "      <td>0.05267</td>\n",
       "      <td>3.167776e-08</td>\n",
       "      <td>0.000638</td>\n",
       "      <td>2.102663e-08</td>\n",
       "      <td>0.000001</td>\n",
       "      <td>east_asian</td>\n",
       "      <td>0.008284</td>\n",
       "      <td>0.000048</td>\n",
       "      <td>420</td>\n",
       "    </tr>\n",
       "    <tr>\n",
       "      <th>3</th>\n",
       "      <td>3</td>\n",
       "      <td>1.250000</td>\n",
       "      <td>123.0</td>\n",
       "      <td>562.5</td>\n",
       "      <td>Sprout App</td>\n",
       "      <td>urn:li:member:149435456</td>\n",
       "      <td>1</td>\n",
       "      <td>4</td>\n",
       "      <td>123.0</td>\n",
       "      <td>37</td>\n",
       "      <td>...</td>\n",
       "      <td>0.877681</td>\n",
       "      <td>0.05267</td>\n",
       "      <td>3.167776e-08</td>\n",
       "      <td>0.000638</td>\n",
       "      <td>2.102663e-08</td>\n",
       "      <td>0.000001</td>\n",
       "      <td>east_asian</td>\n",
       "      <td>0.008284</td>\n",
       "      <td>0.000048</td>\n",
       "      <td>420</td>\n",
       "    </tr>\n",
       "    <tr>\n",
       "      <th>4</th>\n",
       "      <td>4</td>\n",
       "      <td>1.200000</td>\n",
       "      <td>244.0</td>\n",
       "      <td>474.6</td>\n",
       "      <td>College Pro</td>\n",
       "      <td>urn:li:member:149435456</td>\n",
       "      <td>1</td>\n",
       "      <td>5</td>\n",
       "      <td>244.0</td>\n",
       "      <td>37</td>\n",
       "      <td>...</td>\n",
       "      <td>0.877681</td>\n",
       "      <td>0.05267</td>\n",
       "      <td>3.167776e-08</td>\n",
       "      <td>0.000638</td>\n",
       "      <td>2.102663e-08</td>\n",
       "      <td>0.000001</td>\n",
       "      <td>east_asian</td>\n",
       "      <td>0.008284</td>\n",
       "      <td>0.000048</td>\n",
       "      <td>420</td>\n",
       "    </tr>\n",
       "  </tbody>\n",
       "</table>\n",
       "<p>5 rows × 52 columns</p>\n",
       "</div>"
      ],
      "text/plain": [
       "   Unnamed: 0  avg_n_pos_per_prev_tenure  avg_pos_len  avg_prev_tenure_len  \\\n",
       "0           0                   2.000000        457.0               1338.0   \n",
       "1           1                   1.500000        212.0                897.5   \n",
       "2           2                   1.333333        243.0                669.0   \n",
       "3           3                   1.250000        123.0                562.5   \n",
       "4           4                   1.200000        244.0                474.6   \n",
       "\n",
       "                      c_name                    m_urn  n_pos  n_prev_tenures  \\\n",
       "0                         TD  urn:li:member:149435456      1               1   \n",
       "1  Light Up The World (LUTW)  urn:li:member:149435456      1               2   \n",
       "2                    Glacier  urn:li:member:149435456      1               3   \n",
       "3                 Sprout App  urn:li:member:149435456      1               4   \n",
       "4                College Pro  urn:li:member:149435456      1               5   \n",
       "\n",
       "   tenure_len  age  ...  east_asian  european         greek  hispanic  \\\n",
       "0       457.0   37  ...    0.877681   0.05267  3.167776e-08  0.000638   \n",
       "1       212.0   37  ...    0.877681   0.05267  3.167776e-08  0.000638   \n",
       "2       243.0   37  ...    0.877681   0.05267  3.167776e-08  0.000638   \n",
       "3       123.0   37  ...    0.877681   0.05267  3.167776e-08  0.000638   \n",
       "4       244.0   37  ...    0.877681   0.05267  3.167776e-08  0.000638   \n",
       "\n",
       "         jewish    muslim  nationality    nordic  south_asian  n_followers  \n",
       "0  2.102663e-08  0.000001   east_asian  0.008284     0.000048          420  \n",
       "1  2.102663e-08  0.000001   east_asian  0.008284     0.000048          420  \n",
       "2  2.102663e-08  0.000001   east_asian  0.008284     0.000048          420  \n",
       "3  2.102663e-08  0.000001   east_asian  0.008284     0.000048          420  \n",
       "4  2.102663e-08  0.000001   east_asian  0.008284     0.000048          420  \n",
       "\n",
       "[5 rows x 52 columns]"
      ]
     },
     "execution_count": 5,
     "metadata": {},
     "output_type": "execute_result"
    }
   ],
   "source": [
    "linkedin_df.head()"
   ]
  },
  {
   "cell_type": "markdown",
   "metadata": {},
   "source": [
    "### Column info"
   ]
  },
  {
   "cell_type": "markdown",
   "metadata": {},
   "source": [
    "The columns include data on the LinkedIn work history and analysis of their photo (Age, Race, Gender, Attractiveness, Health, Emotionality) and name.\n",
    "\n",
    "Demographics\n",
    "* `age`, `gender`\n",
    "\n",
    "Work history (How long s/he has been working at their company? What's the company's name? How many companies have they worked at? Etc.)\n",
    "* `avg_n_pos_per_prev_tenure`, `avg_pos_len`, `avg_prev_tenure_len`, `c_name`, `n_pos`, `n_prev_tenures`, `tenure_len`\n",
    "\n",
    "Beauty-related (Based on an online analysis of their profile picture, how 'beautiful' is the LinkedIn user, from a scale of 0-100?)\n",
    "* `beauty`, `beauty_female`, `beauty_male`\n",
    "\n",
    "Emotionality (Based on an online analysis of their profile picture, how much of each of these emotions do the Linkedin user display?)\n",
    "* `emo_anger`, `emo_disgust`, `emo_fear`, `emo_happiness`, `emo_neutral`, `emo_sadness`, `emo_surprise`\n",
    "\n",
    "Profile picture features/ratings (From the LinkedIn user's profile picture, are they wearing glasses? Do they have acne? Is the background blurred? Is their mouth open? Are they smiling? Etc.)\n",
    "* `img`, `face_quality`, `glass`, `head_pitch`, `head_roll`, `head_yaw`, `mouth_close`, `mouth_mask`, `mouth_open`, `mouth_other`, `skin_acne`, `skin_dark_circle`, `skin_health`, `skin_stain`, `smile`, `blur`, `blur_gaussian`, `blur_motion`\n",
    "\n",
    "Race-related (Based on the LinkedIn user's profile picture and last name, what race are they? What percentage East Asian or Hispanic are they? Etc.)\n",
    "* `african`, `celtic_english`, `east_asian`, `european`, `greek`, `hispanic`, `jewish`, `muslim`, `nationality`, `nordic`, `south_asian`, `ethnicity`\n",
    "\n",
    "LinkedIn-specific (What's their LinkedIn profile URL? How many followers do they have?)\n",
    "* `m_urn`, `n_followers`"
   ]
  },
  {
   "cell_type": "markdown",
   "metadata": {},
   "source": [
    "### Data Cleaning"
   ]
  },
  {
   "cell_type": "code",
   "execution_count": 6,
   "metadata": {},
   "outputs": [],
   "source": [
    "linkedin_df = linkedin_df.drop(['Unnamed: 0', 'm_urn','beauty_female', 'tenure_len', 'skin_acne',\n",
    "                                'beauty_male', 'blur_gaussian', 'n_prev_tenures',\n",
    "                                'blur_motion', 'emo_anger', 'avg_prev_tenure_len',\n",
    "                                'emo_disgust', 'emo_fear', 'emo_happiness', 'avg_n_pos_per_prev_tenure',\n",
    "                                'emo_neutral', 'emo_sadness', 'emo_surprise',\n",
    "                                'face_quality', 'glass', 'head_pitch', 'head_roll', \n",
    "                                'head_yaw', 'img', 'mouth_close', 'mouth_mask',\n",
    "                                'mouth_open', 'mouth_other', 'skin_dark_circle',\n",
    "                                'skin_health', 'skin_stain', 'african', 'celtic_english',\n",
    "                                'east_asian', 'european', 'greek', 'hispanic', 'jewish',\n",
    "                                'muslim', 'nationality', 'nordic', 'south_asian'], axis = 1)"
   ]
  },
  {
   "cell_type": "code",
   "execution_count": 25,
   "metadata": {},
   "outputs": [],
   "source": [
    "#creating a binary variable for female and male\n",
    "linkedin_df = linkedin_df.replace({'Female' : 1, 'Male' : 0})"
   ]
  },
  {
   "cell_type": "code",
   "execution_count": 8,
   "metadata": {},
   "outputs": [],
   "source": [
    "#removing users younger than 18 since 18\n",
    "linkedin_df = linkedin_df[linkedin_df['age']>=18]"
   ]
  },
  {
   "cell_type": "code",
   "execution_count": 9,
   "metadata": {},
   "outputs": [],
   "source": [
    "#removing users who reported a negative position length\n",
    "linkedin_df = linkedin_df[linkedin_df['avg_pos_len']>0]"
   ]
  },
  {
   "cell_type": "code",
   "execution_count": null,
   "metadata": {},
   "outputs": [],
   "source": [
    "linkedin_df.sort_values(by='col1', ascending=False)"
   ]
  },
  {
   "cell_type": "code",
   "execution_count": 11,
   "metadata": {},
   "outputs": [
    {
     "data": {
      "text/html": [
       "<div>\n",
       "<style scoped>\n",
       "    .dataframe tbody tr th:only-of-type {\n",
       "        vertical-align: middle;\n",
       "    }\n",
       "\n",
       "    .dataframe tbody tr th {\n",
       "        vertical-align: top;\n",
       "    }\n",
       "\n",
       "    .dataframe thead th {\n",
       "        text-align: right;\n",
       "    }\n",
       "</style>\n",
       "<table border=\"1\" class=\"dataframe\">\n",
       "  <thead>\n",
       "    <tr style=\"text-align: right;\">\n",
       "      <th></th>\n",
       "      <th>avg_position_len</th>\n",
       "      <th>company_name</th>\n",
       "      <th>n_positions</th>\n",
       "      <th>age</th>\n",
       "      <th>beauty</th>\n",
       "      <th>blur</th>\n",
       "      <th>ethnicity</th>\n",
       "      <th>gender</th>\n",
       "      <th>smile</th>\n",
       "      <th>n_followers</th>\n",
       "    </tr>\n",
       "  </thead>\n",
       "  <tbody>\n",
       "    <tr>\n",
       "      <th>0</th>\n",
       "      <td>457.0</td>\n",
       "      <td>TD</td>\n",
       "      <td>1</td>\n",
       "      <td>37</td>\n",
       "      <td>57.57</td>\n",
       "      <td>0.421</td>\n",
       "      <td>Asian</td>\n",
       "      <td>0</td>\n",
       "      <td>77.536</td>\n",
       "      <td>420</td>\n",
       "    </tr>\n",
       "    <tr>\n",
       "      <th>1</th>\n",
       "      <td>212.0</td>\n",
       "      <td>Light Up The World (LUTW)</td>\n",
       "      <td>1</td>\n",
       "      <td>37</td>\n",
       "      <td>57.57</td>\n",
       "      <td>0.421</td>\n",
       "      <td>Asian</td>\n",
       "      <td>0</td>\n",
       "      <td>77.536</td>\n",
       "      <td>420</td>\n",
       "    </tr>\n",
       "    <tr>\n",
       "      <th>2</th>\n",
       "      <td>243.0</td>\n",
       "      <td>Glacier</td>\n",
       "      <td>1</td>\n",
       "      <td>37</td>\n",
       "      <td>57.57</td>\n",
       "      <td>0.421</td>\n",
       "      <td>Asian</td>\n",
       "      <td>0</td>\n",
       "      <td>77.536</td>\n",
       "      <td>420</td>\n",
       "    </tr>\n",
       "    <tr>\n",
       "      <th>3</th>\n",
       "      <td>123.0</td>\n",
       "      <td>Sprout App</td>\n",
       "      <td>1</td>\n",
       "      <td>37</td>\n",
       "      <td>57.57</td>\n",
       "      <td>0.421</td>\n",
       "      <td>Asian</td>\n",
       "      <td>0</td>\n",
       "      <td>77.536</td>\n",
       "      <td>420</td>\n",
       "    </tr>\n",
       "    <tr>\n",
       "      <th>4</th>\n",
       "      <td>244.0</td>\n",
       "      <td>College Pro</td>\n",
       "      <td>1</td>\n",
       "      <td>37</td>\n",
       "      <td>57.57</td>\n",
       "      <td>0.421</td>\n",
       "      <td>Asian</td>\n",
       "      <td>0</td>\n",
       "      <td>77.536</td>\n",
       "      <td>420</td>\n",
       "    </tr>\n",
       "  </tbody>\n",
       "</table>\n",
       "</div>"
      ],
      "text/plain": [
       "   avg_position_len               company_name  n_positions  age  beauty  \\\n",
       "0             457.0                         TD            1   37   57.57   \n",
       "1             212.0  Light Up The World (LUTW)            1   37   57.57   \n",
       "2             243.0                    Glacier            1   37   57.57   \n",
       "3             123.0                 Sprout App            1   37   57.57   \n",
       "4             244.0                College Pro            1   37   57.57   \n",
       "\n",
       "    blur ethnicity  gender   smile  n_followers  \n",
       "0  0.421     Asian       0  77.536          420  \n",
       "1  0.421     Asian       0  77.536          420  \n",
       "2  0.421     Asian       0  77.536          420  \n",
       "3  0.421     Asian       0  77.536          420  \n",
       "4  0.421     Asian       0  77.536          420  "
      ]
     },
     "execution_count": 11,
     "metadata": {},
     "output_type": "execute_result"
    }
   ],
   "source": [
    "linkedin_df.rename({'avg_pos_len': 'avg_position_len',\n",
    "                    'c_name': 'company_name', \n",
    "                    'n_pos': 'n_positions'}, axis = 1, inplace = True)\n",
    "linkedin_df.head()"
   ]
  },
  {
   "cell_type": "code",
   "execution_count": 12,
   "metadata": {},
   "outputs": [
    {
     "data": {
      "text/plain": [
       "(61816, 10)"
      ]
     },
     "execution_count": 12,
     "metadata": {},
     "output_type": "execute_result"
    }
   ],
   "source": [
    "linkedin_df.shape"
   ]
  },
  {
   "cell_type": "code",
   "execution_count": 13,
   "metadata": {},
   "outputs": [],
   "source": [
    "linkedin_df.to_csv('../data/clean/linkedin_original.csv', index=False)"
   ]
  },
  {
   "cell_type": "markdown",
   "metadata": {},
   "source": [
    "I dropped 42 columns, leaving 10 remaining columns. I dropped 11 columns relating to ethnicity (african, celtic_english, east_asian, european, greek, hispanic, jewish, muslim, nationality, nordic, south_asian) due to redundancy. I won't be looking into the impacts of what percentage of an ethnicity a LinkedIn user is but, rather, the impacts of ethnicity as a whole, and for that, all I need is the \"Ethnicity\" column, which I've kept.\n",
    "\n",
    "7 columns relating to emotion (emo_anger, emo_disgust, emo_fear, emo_happiness, emo_neutral, emo_sadness, emo_surprise) were also dropped because I've deemed them irrelevant to my analysis. I also dropped 10 columns relating to facial features/actions (face_quality, head_pitch, head_roll, head_yaw, mouth_close, mouth_mask, mouth_open, mouth_other, skin_acne, skin_dark_circle) because I'll be testing the overall aspects of how a LinkedIn user's facial features make an impact simply through the \"Beauty\" column.\n",
    "\n",
    "The last 9 columns that I dropped were either due to redundancy or irrelevance. I also renamed the remaining columns for clarity."
   ]
  },
  {
   "cell_type": "markdown",
   "metadata": {},
   "source": [
    "### Examining distribution"
   ]
  },
  {
   "cell_type": "code",
   "execution_count": 14,
   "metadata": {},
   "outputs": [
    {
     "name": "stdout",
     "output_type": "stream",
     "text": [
      "Average position length ranges from 7.75 to 21884.0\n"
     ]
    }
   ],
   "source": [
    "print(\"Average position length ranges from\", linkedin_df['avg_position_len'].min(), \n",
    "      'to', linkedin_df['avg_position_len'].max())"
   ]
  },
  {
   "cell_type": "code",
   "execution_count": 15,
   "metadata": {
    "scrolled": true
   },
   "outputs": [
    {
     "name": "stdout",
     "output_type": "stream",
     "text": [
      "Beauty ranges from 18.402 to 92.431\n"
     ]
    }
   ],
   "source": [
    "print(\"Beauty ranges from\", linkedin_df['beauty'].min(), \n",
    "      'to', linkedin_df['beauty'].max())"
   ]
  },
  {
   "cell_type": "code",
   "execution_count": 16,
   "metadata": {},
   "outputs": [
    {
     "name": "stdout",
     "output_type": "stream",
     "text": [
      "The level of blur in the background of users' profile pictures ranges from 0.002 to 100.0\n"
     ]
    }
   ],
   "source": [
    "print(\"The level of blur in the background of users' profile pictures ranges from\", linkedin_df['blur'].min(), \n",
    "      'to', linkedin_df['blur'].max())"
   ]
  },
  {
   "cell_type": "code",
   "execution_count": 17,
   "metadata": {},
   "outputs": [
    {
     "name": "stdout",
     "output_type": "stream",
     "text": [
      "The level of smiling from users' profile pictures ranges from 0.032 to 99.92399999999999\n"
     ]
    }
   ],
   "source": [
    "print(\"The level of smiling from users' profile pictures ranges from\", linkedin_df['smile'].min(), \n",
    "      'to', linkedin_df['smile'].max())"
   ]
  },
  {
   "cell_type": "code",
   "execution_count": 18,
   "metadata": {},
   "outputs": [
    {
     "name": "stdout",
     "output_type": "stream",
     "text": [
      "The number of followers users have ranges from 0 to 530566\n"
     ]
    }
   ],
   "source": [
    "print(\"The number of followers users have ranges from\", linkedin_df['n_followers'].min(), \n",
    "      'to', linkedin_df['n_followers'].max())"
   ]
  },
  {
   "cell_type": "code",
   "execution_count": 19,
   "metadata": {},
   "outputs": [
    {
     "name": "stdout",
     "output_type": "stream",
     "text": [
      "There are 3 unique ethnicities in this dataset, and they are Asian , White , and Black\n"
     ]
    }
   ],
   "source": [
    "print('There are', \n",
    "      len(list(linkedin_df['ethnicity'].unique())), \n",
    "      'unique ethnicities in this dataset, and they are',\n",
    "      list(linkedin_df['ethnicity'].unique())[0],',',\n",
    "      list(linkedin_df['ethnicity'].unique())[1],\n",
    "      ', and',\n",
    "      list(linkedin_df['ethnicity'].unique())[2])"
   ]
  },
  {
   "cell_type": "code",
   "execution_count": 20,
   "metadata": {},
   "outputs": [
    {
     "name": "stdout",
     "output_type": "stream",
     "text": [
      "0.7666299987058367\n",
      "0.15533195289245502\n",
      "0.07803804840170829\n"
     ]
    }
   ],
   "source": [
    "print((linkedin_df['ethnicity']=='White').sum()/len(linkedin_df))\n",
    "print((linkedin_df['ethnicity']=='Asian').sum()/len(linkedin_df))\n",
    "print((linkedin_df['ethnicity']=='Black').sum()/len(linkedin_df))"
   ]
  },
  {
   "cell_type": "markdown",
   "metadata": {},
   "source": [
    "White LinkedIn users make up 76.7% of the data, Asian users make up 15.53%, and Black users make up 7.8%."
   ]
  },
  {
   "cell_type": "code",
   "execution_count": 21,
   "metadata": {},
   "outputs": [
    {
     "name": "stdout",
     "output_type": "stream",
     "text": [
      "There are 29717 unique companies in this dataset\n"
     ]
    }
   ],
   "source": [
    "print('There are',len(linkedin_df['company_name'].unique()), 'unique companies in this dataset')"
   ]
  },
  {
   "cell_type": "code",
   "execution_count": 22,
   "metadata": {},
   "outputs": [
    {
     "name": "stdout",
     "output_type": "stream",
     "text": [
      "0.7637504853112462\n",
      "0.23624951468875371\n"
     ]
    }
   ],
   "source": [
    "print((linkedin_df['gender']==0).sum()/len(linkedin_df))\n",
    "print((linkedin_df['gender']==1).sum()/len(linkedin_df))"
   ]
  },
  {
   "cell_type": "markdown",
   "metadata": {},
   "source": [
    "Male users make up 76.38% of the data, and females make up 23.62%"
   ]
  },
  {
   "cell_type": "markdown",
   "metadata": {},
   "source": [
    "### Basic visualization"
   ]
  },
  {
   "cell_type": "code",
   "execution_count": 23,
   "metadata": {},
   "outputs": [
    {
     "data": {
      "image/png": "[encoded data removed]",
      "text/plain": [
       "<Figure size 432x288 with 1 Axes>"
      ]
     },
     "metadata": {
      "needs_background": "light"
     },
     "output_type": "display_data"
    }
   ],
   "source": [
    "linkedin_df = linkedin_df[linkedin_df['n_followers'] != 0]\n",
    "linkedin_df = linkedin_df[linkedin_df['n_followers'] <10000] \n",
    "#removing the outliers and those with 0 followers (likely to be fake/unused accounts) to eliminate noise in data\n",
    "\n",
    "plt.scatter(linkedin_df['beauty'], linkedin_df['n_followers'])\n",
    "plt.xlabel('beauty')\n",
    "plt.ylabel('n_followers')\n",
    "plt.title('Beauty vs. Number of Followers');"
   ]
  },
  {
   "cell_type": "markdown",
   "metadata": {},
   "source": [
    "The scatter plot above represents the relationship between LinkedIn User's beauty and their number of followers. This is interesting to me because I'm curious as to whether a higher beauty score will result in a higher number of followers and, ultimately, result in better job prospects. However, there doesn't seem to be a strong correlation between the two variables based on the scatter plot."
   ]
  },
  {
   "cell_type": "markdown",
   "metadata": {},
   "source": [
    "### Observations and Questions"
   ]
  },
  {
   "cell_type": "markdown",
   "metadata": {},
   "source": [
    "I've noticed that the data is not as diverse as I expected it to be, in terms of racial diversity. White and male LinkedIn users make up the majority of the data. This may be due to the relative racial homogeneity of Australia, which is where the LinkedIn users are based, compared to the US. This won't deter my analysis because the dataset is very large and I'll only be examining a few race- or gender- related questions.\n",
    "\n",
    "Some of the questions I seek to explore are: \n",
    "* Does beauty influence one's chances of working at a Fortune 500 company?\n",
    "* Does a LinkedIn profile picture influence working at a Fortune 500 company?\n",
    "* Are certain ethnicities more likely to be work at a Fortune 500 company?\n",
    "* Is there a leadership gap between men and women and among ethnicities?\n",
    "* Because of maternity leaves, are women more likely to have shorter position lengths?\n",
    "* Given the idea of millenials as a job-hopping generation, do millenials actually hold more positions than others?"
   ]
  }
 ],
 "metadata": {
  "kernelspec": {
   "display_name": "Python 3",
   "language": "python",
   "name": "python3"
  },
  "language_info": {
   "codemirror_mode": {
    "name": "ipython",
    "version": 3
   },
   "file_extension": ".py",
   "mimetype": "text/x-python",
   "name": "python",
   "nbconvert_exporter": "python",
   "pygments_lexer": "ipython3",
   "version": "3.7.3"
  }
 },
 "nbformat": 4,
 "nbformat_minor": 2
}
